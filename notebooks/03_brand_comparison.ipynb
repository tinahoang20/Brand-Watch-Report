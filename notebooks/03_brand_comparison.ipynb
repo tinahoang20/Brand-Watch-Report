{
 "cells": [
  {
   "cell_type": "markdown",
   "metadata": {},
   "source": [
    "# ⚔️ 03_brand_comparison.ipynb\n",
    "\n",
    "Compare the three brands – Coke, Pepsi, and Fanta – based on post types, engagement, and content strategy."
   ]
  },
  {
   "cell_type": "code",
   "execution_count": 19,
   "metadata": {},
   "outputs": [],
   "source": [
    "import pandas as pd\n",
    "import matplotlib.pyplot as plt\n",
    "import seaborn as sns\n",
    "sns.set(style=\"whitegrid\")"
   ]
  },
  {
   "cell_type": "code",
   "execution_count": 20,
   "metadata": {},
   "outputs": [],
   "source": [
    "# Load content data with post_type\n",
    "df = pd.read_csv(\"../data/content_analysis.csv\")\n",
    "df['post_date'] = pd.to_datetime(df['post_date'])"
   ]
  },
  {
   "cell_type": "markdown",
   "metadata": {},
   "source": [
    "## 🧮 1. Engagement Metrics (Simulated)"
   ]
  },
  {
   "cell_type": "code",
   "execution_count": 21,
   "metadata": {},
   "outputs": [],
   "source": [
    "# Simulate basic engagement\n",
    "import numpy as np\n",
    "np.random.seed(42)\n",
    "df['likes'] = np.random.randint(100, 500, len(df))\n",
    "df['comments'] = np.random.randint(10, 50, len(df))\n",
    "df['shares'] = np.random.randint(5, 30, len(df))\n",
    "df['engagement'] = df['likes'] + df['comments'] + df['shares']"
   ]
  },
  {
   "cell_type": "code",
   "execution_count": 22,
   "metadata": {},
   "outputs": [],
   "source": [
    "eng_summary = df.groupby('brand')['likes', 'comments', 'shares', 'engagement'].mean().round(1)\n",
    "eng_summary"
   ]
  },
  {
   "cell_type": "markdown",
   "metadata": {},
   "source": [
    "## 📊 2. Post Type Distribution"
   ]
  },
  {
   "cell_type": "code",
   "execution_count": 23,
   "metadata": {},
   "outputs": [],
   "source": [
    "sns.countplot(data=df, x='post_type', hue='brand')\n",
    "plt.title(\"Post Type Distribution by Brand\")\n",
    "plt.xticks(rotation=15)\n",
    "plt.show()"
   ]
  },
  {
   "cell_type": "markdown",
   "metadata": {},
   "source": [
    "## ⏰ 3. Best Posting Times"
   ]
  },
  {
   "cell_type": "code",
   "execution_count": 24,
   "metadata": {},
   "outputs": [],
   "source": [
    "df['hour'] = df['post_date'].dt.hour\n",
    "sns.boxplot(data=df, x='brand', y='hour')\n",
    "plt.title(\"Posting Time Distribution by Brand\")\n",
    "plt.ylabel(\"Hour of Day\")\n",
    "plt.show()"
   ]
  },
  {
   "cell_type": "markdown",
   "metadata": {},
   "source": [
    "## 🗝 4. Top Keywords by Brand"
   ]
  },
  {
   "cell_type": "code",
   "execution_count": 25,
   "metadata": {},
   "outputs": [],
   "source": [
    "from sklearn.feature_extraction.text import CountVectorizer\n",
    "top_keywords = {}\n",
    "for brand in df['brand'].unique():\n",
    "    texts = df[df['brand'] == brand]['content'].dropna().astype(str)\n",
    "    vec = CountVectorizer(stop_words='english', max_features=10)\n",
    "    X = vec.fit_transform(texts)\n",
    "    keywords = vec.get_feature_names_out()\n",
    "    top_keywords[brand] = list(keywords)\n",
    "\n",
    "pd.DataFrame(top_keywords)"
   ]
  },
  {
   "cell_type": "markdown",
   "metadata": {},
   "source": [
    "## 📋 5. Summary Table & Observations"
   ]
  },
  {
   "cell_type": "code",
   "execution_count": 26,
   "metadata": {},
   "outputs": [],
   "source": [
    "summary = df.groupby('brand').agg({\n",
    "    'engagement': 'mean',\n",
    "    'word_count': 'mean',\n",
    "    'post_type': lambda x: x.value_counts().idxmax(),\n",
    "    'hour': lambda x: x.mode()[0]\n",
    "}).round(1)\n",
    "summary.columns = ['Avg Engagement', 'Avg Word Count', 'Top Post Type', 'Most Active Hour']\n",
    "summary"
   ]
  },
  {
   "cell_type": "code",
   "execution_count": 27,
   "metadata": {},
   "outputs": [],
   "source": [
    "summary.to_csv(\"../data/brand_comparison_summary.csv\")\n",
    "print(\"✅ Comparison summary saved.\")"
   ]
  }
 ],
 "metadata": {
  "kernelspec": {
   "display_name": "Python 3",
   "language": "python",
   "name": "python3"
  },
  "language_info": {
   "name": "python",
   "version": ""
  }
 },
 "nbformat": 4,
 "nbformat_minor": 5
}
