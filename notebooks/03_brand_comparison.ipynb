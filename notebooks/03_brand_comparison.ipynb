{
 "cells": [
  {
   "cell_type": "markdown",
   "metadata": {},
   "source": [
    "# 📊 03_brand_comparison.ipynb\n",
    "\n",
    "Compare content strategy, frequency, and engagement between **Coca-Cola**, **Pepsi**, and **Fanta**."
   ]
  },
  {
   "cell_type": "code",
   "execution_count": 15,
   "metadata": {},
   "outputs": [],
   "source": [
    "import pandas as pd\n",
    "import matplotlib.pyplot as plt\n",
    "import seaborn as sns\n",
    "\n",
    "# Load cleaned data\n",
    "df = pd.read_csv(\"../data/combined_cleaned_data.csv\")\n",
    "df['created_time'] = pd.to_datetime(df['created_time'])"
   ]
  },
  {
   "cell_type": "code",
   "execution_count": 16,
   "metadata": {},
   "outputs": [],
   "source": [
    "# Post frequency per brand\n",
    "post_counts = df.groupby('brand')['id'].count().reset_index(name='post_count')\n",
    "sns.barplot(data=post_counts, x='brand', y='post_count')\n",
    "plt.title('Post Frequency per Brand')\n",
    "plt.ylabel('Number of Posts')\n",
    "plt.show()"
   ]
  },
  {
   "cell_type": "code",
   "execution_count": 17,
   "metadata": {},
   "outputs": [],
   "source": [
    "# Average engagement\n",
    "df['engagement'] = df['likes'] + df['comments'] + df['shares']\n",
    "avg_engagement = df.groupby('brand')['engagement'].mean().reset_index()\n",
    "sns.barplot(data=avg_engagement, x='brand', y='engagement')\n",
    "plt.title('Average Engagement per Post')\n",
    "plt.ylabel('Engagement Score')\n",
    "plt.show()"
   ]
  }
 ],
 "metadata": {
  "kernelspec": {
   "display_name": "Python 3",
   "language": "python",
   "name": "python3"
  },
  "language_info": {
   "name": "python",
   "version": "3.x"
  }
 },
 "nbformat": 4,
 "nbformat_minor": 2
}

