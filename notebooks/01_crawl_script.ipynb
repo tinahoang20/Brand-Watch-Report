**Author**: Hoang Ngoc Anh  

Data collection from Facebook, Instagram, and YouTube platforms for the brands Coke, Pepsi, and Fanta.  
- **Time period**: 01/11/2024 to 31/03/2025  
- **Output folder**: `data/`
# Install necessary libraries
!pip install requests beautifulsoup4 pandas google-api-python-client
!pip install facebook-scraper instaloader
# Import libraries
import pandas as pd
from facebook_scraper import get_posts
import instaloader
from datetime import datetime
from googleapiclient.discovery import build
## Facebook Data Collection (public page posts)
# Crawl Facebook data from public pages
brands = {
    "Coke": "TCCCVN",
    "Pepsi": "Pepsivietnam",
    "Fanta": "fantavietnam"
}

facebook_data = []
for brand, page in brands.items():
    for post in get_posts(page, pages=100):
        if post['time'] and datetime(2024, 11, 1) <= post['time'] <= datetime(2025, 3, 31):
            facebook_data.append({
                'brand': brand,
                'time': post['time'],
                'text': post['text'],
                'likes': post['likes'],
                'shares': post['shares'],
                'comments': post['comments']
            })
df_fb = pd.DataFrame(facebook_data)
df_fb.to_csv('data/facebook_data.csv', index=False)
df_fb.head()
## Instagram Data Collection (Instaloader - public profiles only)
L = instaloader.Instaloader()
insta_data = []
for brand in ["cocacola_vn", "pepsivietnam", "fantavietnam"]:
    profile = instaloader.Profile.from_username(L.context, brand)
    for post in profile.get_posts():
        if datetime(2024, 11, 1) <= post.date <= datetime(2025, 3, 31):
            insta_data.append({
                'brand': brand,
                'date': post.date,
                'caption': post.caption,
                'likes': post.likes,
                'comments': post.comments
            })
df_insta = pd.DataFrame(insta_data)
df_insta.to_csv('data/instagram_data.csv', index=False)
df_insta.head()
## YouTube Data Collection (API key required)
# Replace YOUR_API_KEY with your actual YouTube API key
api_key = 'YOUR_API_KEY'
youtube = build('youtube', 'v3', developerKey=api_key)

# Due to pagination and complexity, this part can be implemented in detail later.
