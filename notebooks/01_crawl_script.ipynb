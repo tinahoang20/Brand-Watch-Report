{
 "cells": [
  {
   "cell_type": "markdown",
   "metadata": {},
   "source": [
    "# 📥 01_crawl_script.ipynb\n",
    "\n",
    "Automatically crawl public Facebook posts from 3 official brand pages: **Coca-Cola**, **Pepsi**, and **Fanta** in Vietnam."
   ]
  },
  {
   "cell_type": "code",
   "execution_count": 1,
   "metadata": {},
   "outputs": [],
   "source": [
    "import time\n",
    "import pandas as pd\n",
    "from selenium import webdriver\n",
    "from selenium.webdriver.chrome.service import Service\n",
    "from selenium.webdriver.common.by import By\n",
    "from datetime import datetime\n",
    "import os"
   ]
  },
  {
   "cell_type": "code",
   "execution_count": 2,
   "metadata": {},
   "outputs": [],
   "source": [
    "# Define crawling function\n",
    "def crawl_facebook_posts(page_url, brand_name, scroll_times=30):\n",
    "    options = webdriver.ChromeOptions()\n",
    "    options.add_argument('--headless')\n",
    "    service = Service('msedgedriver.exe')  # change if using chromedriver\n",
    "    driver = webdriver.Chrome(service=service, options=options)\n",
    "    driver.get(page_url)\n",
    "    time.sleep(5)\n",
    "\n",
    "    posts = []\n",
    "    for _ in range(scroll_times):\n",
    "        driver.execute_script(\"window.scrollTo(0, document.body.scrollHeight);\")\n",
    "        time.sleep(2)\n",
    "\n",
    "    messages = driver.find_elements(By.XPATH, '//div[@data-ad-preview=\"message\"]')\n",
    "    dates = driver.find_elements(By.XPATH, '//a[contains(@href,\"/posts/\")]/abbr')\n",
    "\n",
    "    for i in range(min(len(messages), len(dates))):\n",
    "        content = messages[i].text\n",
    "        try:\n",
    "            timestamp = dates[i].get_attribute(\"data-utime\")\n",
    "            post_time = datetime.utcfromtimestamp(int(timestamp)).strftime('%Y-%m-%d %H:%M:%S')\n",
    "        except:\n",
    "            post_time = None\n",
    "        posts.append({\n",
    "            'brand': brand_name,\n",
    "            'post_date': post_time,\n",
    "            'content': content\n",
    "        })\n",
    "\n",
    "    driver.quit()\n",
    "    return posts"
   ]
  },
  {
   "cell_type": "code",
   "execution_count": 3,
   "metadata": {},
   "outputs": [],
   "source": [
    "# Define Facebook pages to crawl\n",
    "pages = {\n",
    "    'Coke': 'https://www.facebook.com/TCCCVN',\n",
    "    'Pepsi': 'https://www.facebook.com/Pepsivietnam',\n",
    "    'Fanta': 'https://www.facebook.com/fantavietnam'\n",
    "}"
   ]
  },
  {
   "cell_type": "code",
   "execution_count": 4,
   "metadata": {},
   "outputs": [],
   "source": [
    "# Crawl all brands\n",
    "all_data = []\n",
    "\n",
    "for brand, url in pages.items():\n",
    "    print(f\"🚀 Crawling: {brand}\")\n",
    "    brand_posts = crawl_facebook_posts(url, brand)\n",
    "    all_data.extend(brand_posts)"
   ]
  },
  {
   "cell_type": "code",
   "execution_count": 5,
   "metadata": {},
   "outputs": [],
   "source": [
    "# Convert to DataFrame\n",
    "df = pd.DataFrame(all_data)\n",
    "df['post_date'] = pd.to_datetime(df['post_date'], errors='coerce')\n",
    "df = df[(df['post_date'] >= '2024-11-01') & (df['post_date'] <= '2025-03-31')]\n",
    "df = df.dropna(subset=['post_date', 'content'])\n",
    "df.head()"
   ]
  },
  {
   "cell_type": "code",
   "execution_count": 6,
   "metadata": {},
   "outputs": [],
   "source": [
    "# Save separate CSVs per brand\n",
    "os.makedirs(\"../data\", exist_ok=True)\n",
    "df[df['brand'] == 'Coke'].to_csv(\"../data/crawl_coke_data.csv\", index=False)\n",
    "df[df['brand'] == 'Pepsi'].to_csv(\"../data/crawl_pepsi_data.csv\", index=False)\n",
    "df[df['brand'] == 'Fanta'].to_csv(\"../data/crawl_fanta_data.csv\", index=False)\n",
    "print(\"✅ Data saved to /data\")"
   ]
  }
 ],
 "metadata": {
  "kernelspec": {
   "display_name": "Python 3",
   "language": "python",
   "name": "python3"
  },
  "language_info": {
   "name": "python",
   "version": "3.10"
  }
 },
 "nbformat": 4,
 "nbformat_minor": 5
}
