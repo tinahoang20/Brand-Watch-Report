{
 "cells": [
  {
   "cell_type": "markdown",
   "metadata": {},
   "source": [
    "# 📥 01_crawl_script.ipynb\n",
    "\n",
    "Collect Facebook post data from the official pages of Coca-Cola, Pepsi, and Fanta in Vietnam\n",
    "for the period from **November 2024 to March 2025**.\n",
    "\n",
    "> ❗ Note: This uses the Graph API v19.0 and requires a valid access token."
   ]
  },
  {
   "cell_type": "code",
   "execution_count": null,
   "metadata": {},
   "outputs": [],
   "source": [
    "import requests\n",
    "import pandas as pd\n",
    "from datetime import datetime, timedelta"
   ]
  },
  {
   "cell_type": "code",
   "execution_count": null,
   "metadata": {},
   "outputs": [],
   "source": [
    "# Configuration\n",
    "BRANDS = {\n",
    "    'CocaCola': 'TCCCVN',\n",
    "    'Fanta': 'fantavietnam',\n",
    "    'Pepsi': 'Pepsivietnam'\n",
    "}\n",
    "\n",
    "START_DATE = '2024-11-01'\n",
    "END_DATE = '2025-03-31'\n",
    "ACCESS_TOKEN = 'YOUR_FACEBOOK_ACCESS_TOKEN'"
   ]
  },
  {
   "cell_type": "code",
   "execution_count": null,
   "metadata": {},
   "outputs": [],
   "source": [
    "# Helper function to get posts for one page\n",
    "def get_facebook_posts(page_name, start_date, end_date):\n",
    "    url = f\"https://graph.facebook.com/v19.0/{page_name}/posts\"\n",
    "    params = {\n",
    "        'access_token': ACCESS_TOKEN,\n",
    "        'fields': 'id,message,created_time,shares,likes.summary(true),comments.summary(true)',\n",
    "        'since': start_date,\n",
    "        'until': end_date,\n",
    "        'limit': 100\n",
    "    }\n",
    "\n",
    "    posts = []\n",
    "    while True:\n",
    "        response = requests.get(url, params=params).json()\n",
    "        if 'data' not in response:\n",
    "            break\n",
    "        posts.extend(response['data'])\n",
    "        paging = response.get('paging', {})\n",
    "        next_url = paging.get('next')\n",
    "        if not next_url:\n",
    "            break\n",
    "        url = next_url\n",
    "        params = {}  # next_url already has params embedded\n",
    "\n",
    "    return posts"
   ]
  },
  {
   "cell_type": "code",
   "execution_count": null,
   "metadata": {},
   "outputs": [],
   "source": [
    "# Collect and store data from all brands\n",
    "all_data = []\n",
    "\n",
    "for brand, page_name in BRANDS.items():\n",
    "    print(f\"Fetching posts for {brand}...\")\n",
    "    posts = get_facebook_posts(page_name, START_DATE, END_DATE)\n",
    "    for post in posts:\n",
    "        all_data.append({\n",
    "            'brand': brand,\n",
    "            'id': post.get('id'),\n",
    "            'message': post.get('message', ''),\n",
    "            'created_time': post.get('created_time'),\n",
    "            'likes': post.get('likes', {}).get('summary', {}).get('total_count', 0),\n",
    "            'comments': post.get('comments', {}).get('summary', {}).get('total_count', 0),\n",
    "            'shares': post.get('shares', {}).get('count', 0)\n",
    "        })"
   ]
  },
  {
   "cell_type": "code",
   "execution_count": null,
   "metadata": {},
   "outputs": [],
   "source": [
    "# Save to CSV\n",
    "df = pd.DataFrame(all_data)\n",
    "df['created_time'] = pd.to_datetime(df['created_time'])\n",
    "df.to_csv(\"../data/facebook_posts.csv\", index=False)\n",
    "df.head()"
   ]
  }
 ],
 "metadata": {
  "kernelspec": {
   "display_name": "Python 3",
   "language": "python",
   "name": "python3"
  },
  "language_info": {
   "name": "python",
   "version": "3.10.12"
  }
 },
 "nbformat": 4,
 "nbformat_minor": 5
}
