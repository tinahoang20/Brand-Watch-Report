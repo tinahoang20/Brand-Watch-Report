{
 "cells": [
  {
   "cell_type": "markdown",
   "metadata": {},
   "source": [
    "# 📘 01_crawl_script.ipynb\n",
    "\n",
    "Crawl Facebook posts for Coke, Pepsi, and Fanta from November 2024 to March 2025."
   ]
  },
  {
   "cell_type": "code",
   "execution_count": null,
   "metadata": {},
   "outputs": [],
   "source": [
    "import time\n",
    "import pandas as pd\n",
    "from selenium import webdriver\n",
    "from selenium.webdriver.chrome.service import Service\n",
    "from selenium.webdriver.common.by import By\n",
    "from datetime import datetime"
   ]
  },
  {
   "cell_type": "code",
   "execution_count": null,
   "metadata": {},
   "outputs": [],
   "source": [
    "def crawl_facebook_posts(page_url, brand_name, scroll_times=30):\n",
    "    options = webdriver.ChromeOptions()\n",
    "    options.add_argument(\"--headless\")\n",
    "    service = Service(\"msedgedriver.exe\")  # hoặc chromedriver.exe nếu bạn dùng Chrome\n",
    "\n",
    "    driver = webdriver.Chrome(service=service, options=options)\n",
    "    driver.get(page_url)\n",
    "    time.sleep(5)\n",
    "\n",
    "    posts = []\n",
    "    for _ in range(scroll_times):\n",
    "        driver.execute_script(\"window.scrollTo(0, document.body.scrollHeight);\")\n",
    "        time.sleep(2)\n",
    "\n",
    "    elements = driver.find_elements(By.XPATH, '//div[@data-ad-preview=\"message\"]')\n",
    "    dates = driver.find_elements(By.XPATH, '//a[contains(@href,\"/posts/\")]/abbr')\n",
    "\n",
    "    for i in range(min(len(elements), len(dates))):\n",
    "        content = elements[i].text\n",
    "        try:\n",
    "            timestamp = dates[i].get_attribute(\"data-utime\")\n",
    "            post_time = datetime.utcfromtimestamp(int(timestamp)).strftime('%Y-%m-%d %H:%M:%S')\n",
    "        except:\n",
    "            post_time = \"N/A\"\n",
    "\n",
    "        posts.append({\n",
    "            'brand': brand_name,\n",
    "            'post_date': post_time,\n",
    "            'content': content\n",
    "        })\n",
    "\n",
    "    driver.quit()\n",
    "    return posts"
   ]
  },
  {
   "cell_type": "code",
   "execution_count": null,
   "metadata": {},
   "outputs": [],
   "source": [
    "pages = {\n",
    "    \"Coke\": \"https://www.facebook.com/TCCCVN\",\n",
    "    \"Pepsi\": \"https://www.facebook.com/Pepsivietnam\",\n",
    "    \"Fanta\": \"https://www.facebook.com/fantavietnam\"\n",
    "}"
   ]
  },
  {
   "cell_type": "code",
   "execution_count": null,
   "metadata": {},
   "outputs": [],
   "source": [
    "all_posts = []\n",
    "for brand, url in pages.items():\n",
    "    print(f\"⏳ Crawling {brand}...\")\n",
    "    posts = crawl_facebook_posts(url, brand)\n",
    "    all_posts.extend(posts)"
   ]
  },
  {
   "cell_type": "code",
   "execution_count": null,
   "metadata": {},
   "outputs": [],
   "source": [
    "df = pd.DataFrame(all_posts)\n",
    "df['post_date'] = pd.to_datetime(df['post_date'], errors='coerce')\n",
    "df = df[(df['post_date'] >= \"2024-11-01\") & (df['post_date'] <= \"2025-03-31\")]\n",
    "df = df.dropna()"
   ]
  },
  {
   "cell_type": "code",
   "execution_count": null,
   "metadata": {},
   "outputs": [],
   "source": [
    "df[df['brand'] == \"Coke\"].to_csv(\"../data/crawl_coke_data.csv\", index=False)\n",
    "df[df['brand'] == \"Pepsi\"].to_csv(\"../data/crawl_pepsi_data.csv\", index=False)\n",
    "df[df['brand'] == \"Fanta\"].to_csv(\"../data/crawl_fanta_data.csv\", index=False)"
   ]
  },
  {
   "cell_type": "code",
   "execution_count": null,
   "metadata": {},
   "outputs": [],
   "source": [
    "print(\"✅ Data crawled and saved for all brands.\")"
   ]
  }
 ],
 "metadata": {
  "kernelspec": {
   "display_name": "Python 3",
   "language": "python",
   "name": "python3"
  },
  "language_info": {
   "name": "python",
   "version": "3.10"
  }
 },
 "nbformat": 4,
 "nbformat_minor": 5
}
