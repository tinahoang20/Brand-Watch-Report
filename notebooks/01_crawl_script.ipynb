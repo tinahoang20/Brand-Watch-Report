{
 "cells": [
  {
   "cell_type": "markdown",
   "metadata": {},
   "source": [
    "# 01_web_crawling.ipynb\n",
    "**Author: Hoang Ngoc Anh**\n\n",
    "This notebook collects social media data from Facebook, Instagram, and YouTube for three beverage brands: Coke, Pepsi, and Fanta.\n",
    "- **Period**: November 1, 2024 – March 31, 2025  \n",
    "- **Output**: Saved to `data/` directory"
   ]
  },
  {
   "cell_type": "code",
   "execution_count": null,
   "metadata": {},
   "outputs": [],
   "source": [
    "# Install necessary libraries\n",
    "!pip install requests beautifulsoup4 pandas google-api-python-client\n",
    "!pip install facebook-scraper instaloader"
   ]
  },
  {
   "cell_type": "code",
   "execution_count": null,
   "metadata": {},
   "outputs": [],
   "source": [
    "# Import libraries\n",
    "import pandas as pd\n",
    "from facebook_scraper import get_posts\n",
    "import instaloader\n",
    "from datetime import datetime\n",
    "from googleapiclient.discovery import build"
   ]
  },
  {
   "cell_type": "markdown",
   "metadata": {},
   "source": [
    "## Collecting Data from Facebook (public page posts)"
   ]
  },
  {
   "cell_type": "code",
   "execution_count": null,
   "metadata": {},
   "outputs": [],
   "source": [
    "# Define brand Facebook pages\n",
    "brands = {\n",
    "    \"Coke\": \"TCCCVN\",\n",
    "    \"Pepsi\": \"Pepsivietnam\",\n",
    "    \"Fanta\": \"fantavietnam\"\n",
    "}\n",
    "\n",
    "facebook_data = []\n",
    "for brand, page in brands.items():\n",
    "    for post in get_posts(page, pages=100):\n",
    "        if post['time'] and datetime(2024, 11, 1) <= post['time'] <= datetime(2025, 3, 31):\n",
    "            facebook_data.append({\n",
    "                'brand': brand,\n",
    "                'time': post['time'],\n",
    "                'text': post['text'],\n",
    "                'likes': post['likes'],\n",
    "                'shares': post['shares'],\n",
    "                'comments': post['comments']\n",
    "            })\n",
    "\n",
    "df_fb = pd.DataFrame(facebook_data)\n",
    "df_fb.to_csv('data/facebook_data.csv', index=False)\n",
    "df_fb.head()"
   ]
  },
  {
   "cell_type": "markdown",
   "metadata": {},
   "source": [
    "## Collecting Data from Instagram (using Instaloader - public profile only)"
   ]
  },
  {
   "cell_type": "code",
   "execution_count": null,
   "metadata": {},
   "outputs": [],
   "source": [
    "L = instaloader.Instaloader()\n",
    "insta_data = []\n",
    "for brand in [\"cocacola_vn\", \"pepsivietnam\", \"fantavietnam\"]:\n",
    "    profile = instaloader.Profile.from_username(L.context, brand)\n",
    "    for post in profile.get_posts():\n",
    "        if datetime(2024, 11, 1) <= post.date <= datetime(2025, 3, 31):\n",
    "            insta_data.append({\n",
    "                'brand': brand,\n",
    "                'date': post.date,\n",
    "                'caption': post.caption,\n",
    "                'likes': post.likes,\n",
    "                'comments': post.comments\n",
    "            })\n",
    "\n",
    "df_insta = pd.DataFrame(insta_data)\n",
    "df_insta.to_csv('data/instagram_data.csv', index=False)\n",
    "df_insta.head()"
   ]
  },
  {
   "cell_type": "markdown",
   "metadata": {},
   "source": [
    "## Collecting Data from YouTube (requires API Key)"
   ]
  },
  {
   "cell_type": "code",
   "execution_count": null,
   "metadata": {},
   "outputs": [],
   "source": [
    "# Replace YOUR_API_KEY with your actual YouTube Data API key\n",
    "api_key = 'YOUR_API_KEY'\n",
    "youtube = build('youtube', 'v3', developerKey=api_key)\n",
    "# Further implementation with pagination and video search can be developed later"
   ]
  }
 ],
 "metadata": {
  "kernelspec": {
   "display_name": "Python 3",
   "language": "python",
   "name": "python3"
  },
  "language_info": {
   "name": "python",
   "version": "3.9"
  },
  "authors": [
   {
    "name": "Hoang Ngoc Anh"
   }
  ]
 },
 "nbformat": 4,
 "nbformat_minor": 5
}
