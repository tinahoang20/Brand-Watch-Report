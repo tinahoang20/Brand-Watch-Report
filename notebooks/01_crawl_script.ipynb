# 01_web_crawling.ipynb

"""
🇻🇳 **Mục tiêu:** Thu thập dữ liệu mạng xã hội từ các fanpage chính thức của Coke, Pepsi và Fanta trên Facebook, Instagram và YouTube trong khoảng thời gian từ 01/11/2024 đến 31/03/2025.

🇬🇧 **Objective:** Collect social media data from the official pages of Coke, Pepsi, and Fanta on Facebook, Instagram, and YouTube from November 1, 2024 to March 31, 2025.
"""

import os
import pandas as pd
from datetime import datetime
from facebook_scraper import get_posts

# -----------------------------
# 1. CRAWL FACEBOOK POSTS
# -----------------------------

# 🇻🇳 Tạo hàm thu thập bài đăng từ Facebook
# 🇬🇧 Create function to scrape Facebook posts
def crawl_facebook_page(page_name, start_date, end_date, max_posts=500):
    posts_data = []
    for post in get_posts(page_name, pages=50, options={"comments": False}):
        if 'time' not in post:
            continue
        post_time = post['time']
        if post_time < start_date:
            break
        if start_date <= post_time <= end_date:
            posts_data.append({
                'platform': 'Facebook',
                'brand': page_name,
                'time': post_time,
                'text': post.get('text', ''),
                'likes': post.get('likes', 0),
                'shares': post.get('shares', 0),
                'comments': post.get('comments', 0),
                'post_url': post.get('post_url', '')
            })
    return posts_data

# 🇻🇳 Khai báo fanpage cần thu thập
# 🇬🇧 Define Facebook fanpages
facebook_pages = {
    'Coke': 'TCCCVN',
    'Pepsi': 'Pepsivietnam',
    'Fanta': 'fantavietnam'
}

start = datetime(2024, 11, 1)
end = datetime(2025, 3, 31)

facebook_data = []
for brand, page in facebook_pages.items():
    facebook_data.extend(crawl_facebook_page(page, start, end))

# -----------------------------
# 2. MOCK INSTAGRAM DATA
# -----------------------------

# 🇻🇳 Mô phỏng dữ liệu Instagram vì API giới hạn quyền truy cập
# 🇬🇧 Mock Instagram data due to API limitations
instagram_data = []
for brand in ['Coke', 'Pepsi', 'Fanta']:
    for i in range(20):
        instagram_data.append({
            'platform': 'Instagram',
            'brand': brand,
            'time': datetime(2025, 1, i+1),
            'text': f"Sample Instagram post {i+1} from {brand}",
            'likes': 100 + i,
            'shares': 0,
            'comments': 10 + i,
            'post_url': f"https://instagram.com/{brand.lower()}/post/{i+1}"
        })

# -----------------------------
# 3. MOCK YOUTUBE DATA
# -----------------------------

# 🇻🇳 Mô phỏng dữ liệu YouTube
# 🇬🇧 Mock YouTube data
youtube_data = []
for brand in ['Coke', 'Pepsi', 'Fanta']:
    for i in range(10):
        youtube_data.append({
            'platform': 'YouTube',
            'brand': brand,
            'time': datetime(2025, 2, i+1),
            'text': f"Sample YouTube video {i+1} from {brand}",
            'likes': 300 + i,
            'shares': 50,
            'comments': 20 + i,
            'post_url': f"https://youtube.com/{brand.lower()}/video/{i+1}"
        })

# -----------------------------
# 4. SAVE DATA TO CSV
# -----------------------------

# 🇻🇳 Lưu toàn bộ dữ liệu vào file
# 🇬🇧 Save all data to file
all_data = facebook_data + instagram_data + youtube_data

df = pd.DataFrame(all_data)
os.makedirs("data", exist_ok=True)
df.to_csv("data/social_media_data.csv", index=False)

print("✅ Dữ liệu đã được lưu vào data/social_media_data.csv")
