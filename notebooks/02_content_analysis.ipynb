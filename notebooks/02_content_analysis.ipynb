{
 "cells": [
  {
   "cell_type": "markdown",
   "metadata": {},
   "source": [
    "# 📊 02_content_analysis.ipynb\n",
    "\n",
    "Analyze Facebook content of Coca-Cola, Pepsi, and Fanta in Vietnam from Nov 2024 to Mar 2025."
   ]
  },
  {
   "cell_type": "code",
   "execution_count": null,
   "metadata": {},
   "outputs": [],
   "source": [
    "import pandas as pd\n",
    "import matplotlib.pyplot as plt\n",
    "import seaborn as sns\n",
    "from wordcloud import WordCloud\n",
    "\n",
    "# Load the dataset (example path, adjust if needed)\n",
    "df = pd.read_csv('../data/facebook_posts.csv')\n",
    "df.head()"
   ]
  },
  {
   "cell_type": "code",
   "execution_count": null,
   "metadata": {},
   "outputs": [],
   "source": [
    "# Check content types by brand\n",
    "content_by_type = df.groupby(['brand', 'type']).size().unstack(fill_value=0)\n",
    "content_by_type.plot(kind='bar', stacked=True, figsize=(10,6), colormap='Set2')\n",
    "plt.title(\"Post Type Distribution by Brand\")\n",
    "plt.ylabel(\"Number of Posts\")\n",
    "plt.xlabel(\"Brand\")\n",
    "plt.xticks(rotation=0)\n",
    "plt.tight_layout()\n",
    "plt.show()"
   ]
  },
  {
   "cell_type": "code",
   "execution_count": null,
   "metadata": {},
   "outputs": [],
   "source": [
    "# Engagement overview\n",
    "engagement_metrics = df.groupby('brand')[['likes', 'comments', 'shares']].mean().round(2)\n",
    "engagement_metrics.plot(kind='bar', figsize=(10,6))\n",
    "plt.title(\"Average Engagement Metrics by Brand\")\n",
    "plt.ylabel(\"Average Count\")\n",
    "plt.xticks(rotation=0)\n",
    "plt.tight_layout()\n",
    "plt.show()"
   ]
  },
  {
   "cell_type": "code",
   "execution_count": null,
   "metadata": {},
   "outputs": [],
   "source": [
    "# WordCloud by brand\n",
    "for brand in df['brand'].unique():\n",
    "    text = \" \".join(df[df['brand'] == brand]['message'].dropna())\n",
    "    wc = WordCloud(width=800, height=400, background_color='white').generate(text)\n",
    "    plt.figure(figsize=(10,5))\n",
    "    plt.imshow(wc, interpolation='bilinear')\n",
    "    plt.axis('off')\n",
    "    plt.title(f\"Word Cloud - {brand}\")\n",
    "    plt.show()"
   ]
  }
 ],
 "metadata": {
  "kernelspec": {
   "display_name": "Python 3",
   "language": "python",
   "name": "python3"
  },
  "language_info": {
   "name": "python",
   "version": "3.10"
  }
 },
 "nbformat": 4,
 "nbformat_minor": 5
}
