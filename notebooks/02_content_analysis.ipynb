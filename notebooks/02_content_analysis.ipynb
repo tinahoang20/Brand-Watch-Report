# 📊 02_content_analysis.ipynb

Exploratory analysis of Facebook posts for Coke, Pepsi, and Fanta between November 2024 and March 2025.

## 📦 Import Libraries
```python
import pandas as pd
import matplotlib.pyplot as plt
import seaborn as sns
from wordcloud import WordCloud
import re
import json
from nltk.corpus import stopwords
import nltk
nltk.download('stopwords')
```

## 📥 Load and Prepare Data
```python
# Load raw data
coke = pd.read_csv("../data/crawl_coke_data.csv")
pepsi = pd.read_csv("../data/crawl_pepsi_data.csv")
fanta = pd.read_csv("../data/crawl_fanta_data.csv")

# Add brand labels
coke['brand'] = 'Coca-Cola'
pepsi['brand'] = 'Pepsi'
fanta['brand'] = 'Fanta'

# Merge all data
df = pd.concat([coke, pepsi, fanta])
df['post_date'] = pd.to_datetime(df['post_date'])

# Drop missing content and add word count
df = df.dropna(subset=['content'])
df['word_count'] = df['content'].apply(lambda x: len(str(x).split()))
```

## 🗓 1. Monthly Post Count
```python
df['month'] = df['post_date'].dt.to_period('M')
sns.countplot(data=df, x='month', hue='brand')
plt.title("Monthly Post Count by Brand")
plt.xticks(rotation=45)
plt.show()
```

## 📏 2. Post Length Distribution
```python
sns.boxplot(data=df, x='brand', y='word_count')
plt.title("Post Length (word count) by Brand")
plt.show()
```

## ☁️ 3. Word Cloud by Brand
```python
stop_words = set(stopwords.words('english'))
def clean_text(text):
    words = re.sub(r"[^a-zA-Z\s]", "", str(text).lower()).split()
    return ' '.join([w for w in words if w not in stop_words])

for brand in df['brand'].unique():
    text = ' '.join(df[df['brand'] == brand]['content'].apply(clean_text))
    wordcloud = WordCloud(width=800, height=400, background_color='white').generate(text)
    plt.figure(figsize=(10,5))
    plt.imshow(wordcloud)
    plt.axis('off')
    plt.title(f"Word Cloud - {brand}")
    plt.show()
```

## 📢 4. Hashtag Frequency
```python
def extract_hashtags(text):
    return re.findall(r"#\w+", str(text))

df['hashtags'] = df['content'].apply(extract_hashtags)

hashtags = pd.Series(sum(df['hashtags'], []))
top_hashtags = hashtags.value_counts().head(10)
top_hashtags.plot(kind='bar', title='Top 10 Hashtags')
plt.xticks(rotation=45)
plt.show()
```

## 🔍 5. Classify Post Type (Promo, Event, UGC, Storytelling)
```python
def classify_post(text):
    text = text.lower()
    if any(x in text for x in ['deal', 'promotion', 'giảm giá']):
        return 'Promo'
    elif any(x in text for x in ['contest', 'giveaway', 'event']):
        return 'Event'
    elif any(x in text for x in ['your story', 'customer', 'ugc']):
        return 'UGC'
    else:
        return 'Storytelling'

df['post_type'] = df['content'].apply(classify_post)
```

```python
sns.countplot(data=df, x='post_type', hue='brand')
plt.title("Post Type Distribution by Brand")
plt.xticks(rotation=15)
plt.show()
```

## ⏰ 6. Posting Hour Distribution
```python
df['hour'] = df['post_date'].dt.hour
sns.histplot(data=df, x='hour', hue='brand', multiple='stack')
plt.title("Distribution of Post Times by Hour")
plt.xlabel("Hour of Day")
plt.show()
```

## ⚡ 7. Engagement Rate and Brand Comparison
```python
# Add engagement metrics
follower_map = {'Coca-Cola': 1_000_000, 'Pepsi': 900_000, 'Fanta': 800_000}
df['total_engagement'] = df['likes'] + df['comments'] + df['shares']
df['followers'] = df['brand'].map(follower_map)
df['engagement_rate'] = df['total_engagement'] / df['followers']

# Grouped by post type and brand
content_summary = df.groupby(['brand', 'post_type']).agg({
    'total_engagement': 'mean',
    'engagement_rate': 'mean',
    'sentiment': lambda x: x.value_counts(normalize=True).to_dict() if x.notna().any() else {}
}).reset_index()

content_summary.columns = ['Brand', 'Post Type', 'Avg Engagement', 'Avg Engagement Rate', 'Sentiment Distribution']
content_summary['Sentiment Distribution'] = content_summary['Sentiment Distribution'].apply(json.dumps)
content_summary.head()
```

```python
# Visualize engagement rate by post type
plt.figure(figsize=(10, 6))
sns.barplot(data=content_summary, x='Post Type', y='Avg Engagement Rate', hue='Brand')
plt.title('💡 Engagement Rate by Post Type and Brand', fontsize=14)
plt.ylabel('Engagement Rate')
plt.xlabel('Post Type')
plt.xticks(rotation=45)
plt.legend(title='Brand')
plt.tight_layout()
plt.show()
```

## 🧮 8. Brand-Level Performance Comparison
```python
brand_comparison = df.groupby('brand').agg({
    'total_engagement': 'mean',
    'engagement_rate': 'mean',
    'likes': 'mean',
    'comments': 'mean',
    'shares': 'mean'
}).reset_index()

brand_comparison.head()

plt.figure(figsize=(8, 5))
sns.barplot(data=brand_comparison, x='brand', y='engagement_rate', palette='Set2')
plt.title('🔥 Average Engagement Rate by Brand')
plt.ylabel('Engagement Rate')
plt.xlabel('Brand')
plt.tight_layout()
plt.show()
```

## 📌 9. Content Strategy Comparison
```python
content_mix = df.groupby(['brand', 'post_type']).size().unstack(fill_value=0)
content_mix_ratio = content_mix.div(content_mix.sum(axis=1), axis=0)

content_mix_ratio.plot(kind='bar', stacked=True, figsize=(10, 6), colormap='tab20')
plt.title('📌 Content Format Distribution by Brand')
plt.ylabel('Proportion of Posts')
plt.xlabel('Brand')
plt.legend(title='Post Type', bbox_to_anchor=(1.05, 1), loc='upper left')
plt.tight_layout()
plt.show()
```

## 📝 Insight Summary
```python
from IPython.display import Markdown, display
insight = """
## ✍️ Strategic Content Insights

- **Coca-Cola** achieves the highest engagement rate with video posts, often leveraging emotional storytelling.
- **Pepsi** performs well with image-based posts, especially those featuring celebrities or entertainment-related content.
- **Fanta** primarily uses status or link posts, which see lower engagement; investing in visual or interactive content is recommended.

### 📌 Brand Comparison Insights

- **Coca-Cola** leads in average engagement rate overall, indicating stronger audience connection.
- **Pepsi** shows consistent performance across likes and shares but slightly lower engagement rate.
- **Fanta** has the lowest metrics overall and should consider reevaluating content format and strategy.

### 🧩 Additional Strategic Takeaways

- **Content Mix**: Coca-Cola uses a more diverse content strategy, mixing video, image, and story formats. Pepsi emphasizes visuals while Fanta focuses more on text-based content.
- **Post-Type Impact**: Video and image posts consistently yield higher engagement across all brands.
- **Optimization Tip**: Fanta should experiment more with rich media formats and user-generated content to boost engagement.
"""
display(Markdown(insight))
```

## 💾 Save Cleaned Data
```python
df.to_csv("../data/content_analysis.csv", index=False)
print("✅ Content analysis saved.")
```
