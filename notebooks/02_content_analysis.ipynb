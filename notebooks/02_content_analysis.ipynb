{
 "cells": [
  {
   "cell_type": "markdown",
   "source": [
    "# 📊 02_content_analysis.ipynb\n",
    "\n",
    "Exploratory analysis of Facebook posts for Coke, Pepsi, and Fanta between November 2024 and March 2025."
   ],
   "metadata": {}
  },
  {
   "cell_type": "code",
   "execution_count": 7,
   "source": [
    "import pandas as pd\n",
    "import matplotlib.pyplot as plt\n",
    "import seaborn as sns\n",
    "from wordcloud import WordCloud\n",
    "import re\n",
    "from nltk.corpus import stopwords\n",
    "import nltk\n",
    "nltk.download('stopwords')"
   ],
   "outputs": [],
   "metadata": {}
  },
  {
   "cell_type": "code",
   "execution_count": 8,
   "source": [
    "# Load raw data\n",
    "coke = pd.read_csv(\"../data/crawl_coke_data.csv\")\n",
    "pepsi = pd.read_csv(\"../data/crawl_pepsi_data.csv\")\n",
    "fanta = pd.read_csv(\"../data/crawl_fanta_data.csv\")\n",
    "\n",
    "coke['brand'] = 'Coke'\n",
    "pepsi['brand'] = 'Pepsi'\n",
    "fanta['brand'] = 'Fanta'\n",
    "\n",
    "df = pd.concat([coke, pepsi, fanta])\n",
    "df['post_date'] = pd.to_datetime(df['post_date'])"
   ],
   "outputs": [],
   "metadata": {}
  },
  {
   "cell_type": "code",
   "execution_count": 9,
   "source": [
    "# Basic cleaning\n",
    "df = df.dropna(subset=['content'])\n",
    "df['word_count'] = df['content'].apply(lambda x: len(str(x).split()))"
   ],
   "outputs": [],
   "metadata": {}
  },
  {
   "cell_type": "markdown",
   "source": ["## 🗓 1. Monthly Post Count"],
   "metadata": {}
  },
  {
   "cell_type": "code",
   "execution_count": 10,
   "source": [
    "df['month'] = df['post_date'].dt.to_period('M')\n",
    "sns.countplot(data=df, x='month', hue='brand')\n",
    "plt.title(\"Monthly Post Count by Brand\")\n",
    "plt.xticks(rotation=45)\n",
    "plt.show()"
   ],
   "outputs": [],
   "metadata": {}
  },
  {
   "cell_type": "markdown",
   "source": ["## 📏 2. Post Length Distribution"],
   "metadata": {}
  },
  {
   "cell_type": "code",
   "execution_count": 11,
   "source": [
    "sns.boxplot(data=df, x='brand', y='word_count')\n",
    "plt.title(\"Post Length (word count) by Brand\")\n",
    "plt.show()"
   ],
   "outputs": [],
   "metadata": {}
  },
  {
   "cell_type": "markdown",
   "source": ["## ☁️ 3. Word Cloud by Brand"],
   "metadata": {}
  },
  {
   "cell_type": "code",
   "execution_count": 12,
   "source": [
    "stop_words = set(stopwords.words('english'))\n",
    "def clean_text(text):\n",
    "    words = re.sub(r\"[^a-zA-Z\\s]\", \"\", str(text).lower()).split()\n",
    "    return ' '.join([w for w in words if w not in stop_words])"
   ],
   "outputs": [],
   "metadata": {}
  },
  {
   "cell_type": "code",
   "execution_count": 13,
   "source": [
    "for brand in df['brand'].unique():\n",
    "    text = ' '.join(df[df['brand'] == brand]['content'].apply(clean_text))\n",
    "    wordcloud = WordCloud(width=800, height=400, background_color='white').generate(text)\n",
    "    plt.figure(figsize=(10,5))\n",
    "    plt.imshow(wordcloud)\n",
    "    plt.axis('off')\n",
    "    plt.title(f\"Word Cloud - {brand}\")\n",
    "    plt.show()"
   ],
   "outputs": [],
   "metadata": {}
  },
  {
   "cell_type": "markdown",
   "source": ["## 📢 4. Hashtag Frequency"],
   "metadata": {}
  },
  {
   "cell_type": "code",
   "execution_count": 14,
   "source": [
    "def extract_hashtags(text):\n",
    "    return re.findall(r\"#\\w+\", str(text))\n",
    "df['hashtags'] = df['content'].apply(extract_hashtags)\n",
    "\n",
    "hashtags = pd.Series(sum(df['hashtags'], []))\n",
    "top_hashtags = hashtags.value_counts().head(10)\n",
    "top_hashtags.plot(kind='bar', title='Top 10 Hashtags')\n",
    "plt.xticks(rotation=45)\n",
    "plt.show()"
   ],
   "outputs": [],
   "metadata": {}
  },
  {
   "cell_type": "markdown",
   "source": ["## 🔍 5. Classify Post Type (Promo, Event, UGC, Storytelling)"],
   "metadata": {}
  },
  {
   "cell_type": "code",
   "execution_count": 15,
   "source": [
    "def classify_post(text):\n",
    "    text = text.lower()\n",
    "    if any(x in text for x in ['deal', 'promotion', 'giảm giá']):\n",
    "        return 'Promo'\n",
    "    elif any(x in text for x in ['contest', 'giveaway', 'event']):\n",
    "        return 'Event'\n",
    "    elif any(x in text for x in ['your story', 'customer', 'ugc']):\n",
    "        return 'UGC'\n",
    "    else:\n",
    "        return 'Storytelling'\n",
    "\n",
    "df['post_type'] = df['content'].apply(classify_post)"
   ],
   "outputs": [],
   "metadata": {}
  },
  {
   "cell_type": "code",
   "execution_count": 16,
   "source": [
    "sns.countplot(data=df, x='post_type', hue='brand')\n",
    "plt.title(\"Post Type Distribution by Brand\")\n",
    "plt.xticks(rotation=15)\n",
    "plt.show()"
   ],
   "outputs": [],
   "metadata": {}
  },
  {
   "cell_type": "markdown",
   "source": ["## ⏰ 6. Posting Hour Distribution"],
   "metadata": {}
  },
  {
   "cell_type": "code",
   "execution_count": 17,
   "source": [
    "df['hour'] = df['post_date'].dt.hour\n",
    "sns.histplot(data=df, x='hour', hue='brand', multiple='stack')\n",
    "plt.title(\"Distribution of Post Times by Hour\")\n",
    "plt.xlabel(\"Hour of Day\")\n",
    "plt.show()"
   ],
   "outputs": [],
   "metadata": {}
  },

# 📦 Thư viện cần thiết
import pandas as pd
import matplotlib.pyplot as plt
import seaborn as sns

# 👉 Giả sử bạn đã có dataframe `df` với các cột:
# ['brand', 'post_type', 'likes', 'comments', 'shares', 'sentiment']

# ✅ Bước 1: Tính tổng tương tác và Engagement Rate
df['total_engagement'] = df['likes'] + df['comments'] + df['shares']

# Giả định số lượng followers theo từng brand (có thể thay bằng số liệu thực nếu có)
followers_dict = {
    'Coca-Cola': 1_000_000,
    'Pepsi': 900_000,
    'Fanta': 800_000
}
df['followers'] = df['brand'].map(followers_dict)
df['engagement_rate'] = df['total_engagement'] / df['followers']

# ✅ Bước 2: Phân tích hiệu quả từng loại nội dung
content_summary = df.groupby(['brand', 'post_type']).agg({
    'total_engagement': 'mean',
    'engagement_rate': 'mean',
    'sentiment': lambda x: x.value_counts(normalize=True).to_dict()
}).reset_index()

content_summary.columns = ['Brand', 'Post Type', 'Avg Engagement', 'Avg Engagement Rate', 'Sentiment Distribution']
display(content_summary)


  {
   "cell_type": "markdown",
   "source": ["## 💾 Save Cleaned Data"],
   "metadata": {}
  },
  {
   "cell_type": "code",
   "execution_count": 18,
   "source": [
    "df.to_csv(\"../data/content_analysis.csv\", index=False)\n",
    "print(\"✅ Content analysis saved.\")"
   ],
   "outputs": [],
   "metadata": {}
  }
 ],
 "metadata": {
  "kernelspec": {
   "name": "python3",
   "display_name": "Python 3",
   "language": "python"
  },
  "language_info": {
   "name": "python",
   "version": ""
  }
 },
 "nbformat": 4,
 "nbformat_minor": 5
}

