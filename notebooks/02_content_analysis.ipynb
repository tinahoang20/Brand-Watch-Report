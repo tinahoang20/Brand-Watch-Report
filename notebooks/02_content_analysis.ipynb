# 📊 02_content_analysis.ipynb

Exploratory analysis of Facebook posts for Coke, Pepsi, and Fanta between November 2024 and March 2025.

## 📦 Import Libraries
```python
import pandas as pd
import matplotlib.pyplot as plt
import seaborn as sns
from wordcloud import WordCloud
import re
import json
from nltk.corpus import stopwords
import nltk
nltk.download('stopwords')
```

## 📥 Load and Prepare Data
```python
coke = pd.read_csv("../data/crawl_coke_data.csv")
pepsi = pd.read_csv("../data/crawl_pepsi_data.csv")
fanta = pd.read_csv("../data/crawl_fanta_data.csv")

coke['brand'] = 'Coca-Cola'
pepsi['brand'] = 'Pepsi'
fanta['brand'] = 'Fanta'

df = pd.concat([coke, pepsi, fanta])
df['post_date'] = pd.to_datetime(df['post_date'])
df = df.dropna(subset=['content'])
df['word_count'] = df['content'].apply(lambda x: len(str(x).split()))
```

## 🗓 Monthly Post Count
```python
df['month'] = df['post_date'].dt.to_period('M')
sns.countplot(data=df, x='month', hue='brand')
plt.title("Monthly Post Count by Brand")
plt.xticks(rotation=45)
plt.show()
```

## 📏 Post Length Distribution
```python
sns.boxplot(data=df, x='brand', y='word_count')
plt.title("Post Length (word count) by Brand")
plt.show()
```

## ☁️ Word Cloud by Brand
```python
stop_words = set(stopwords.words('english'))
def clean_text(text):
    words = re.sub(r"[^a-zA-Z\s]", "", str(text).lower()).split()
    return ' '.join([w for w in words if w not in stop_words])

for brand in df['brand'].unique():
    text = ' '.join(df[df['brand'] == brand]['content'].apply(clean_text))
    wordcloud = WordCloud(width=800, height=400, background_color='white').generate(text)
    plt.figure(figsize=(10,5))
    plt.imshow(wordcloud, interpolation='bilinear')
    plt.axis('off')
    plt.title(f"Word Cloud - {brand}")
    plt.show()
```

## 📢 Top Hashtags
```python
def extract_hashtags(text):
    return re.findall(r"#\w+", str(text))

df['hashtags'] = df['content'].apply(extract_hashtags)

top_hashtags = pd.Series(sum(df['hashtags'], [])).value_counts().head(10)
top_hashtags.plot(kind='bar', title='Top 10 Hashtags')
plt.xticks(rotation=45)
plt.show()
```

## 🔍 Classify Post Type
```python
def classify_post(text):
    text = text.lower()
    if any(x in text for x in ['deal', 'promotion', 'giảm giá']):
        return 'Promo'
    elif any(x in text for x in ['contest', 'giveaway', 'event']):
        return 'Event'
    elif any(x in text for x in ['your story', 'customer', 'ugc']):
        return 'UGC'
    else:
        return 'Storytelling'

df['post_type'] = df['content'].apply(classify_post)
```

```python
sns.countplot(data=df, x='post_type', hue='brand')
plt.title("Post Type Distribution by Brand")
plt.xticks(rotation=15)
plt.show()
```

## ⏰ Posting Hour Distribution
```python
df['hour'] = df['post_date'].dt.hour
sns.histplot(data=df, x='hour', hue='brand', multiple='stack')
plt.title("Distribution of Post Times by Hour")
plt.xlabel("Hour of Day")
plt.show()
```

## ⚡ Engagement Rate & Brand Comparison
```python
follower_map = {'Coca-Cola': 1_000_000, 'Pepsi': 900_000, 'Fanta': 800_000}
df['total_engagement'] = df['likes'] + df['comments'] + df['shares']
df['followers'] = df['brand'].map(follower_map)
df['engagement_rate'] = df['total_engagement'] / df['followers']

summary = df.groupby(['brand', 'post_type']).agg({
    'total_engagement': 'mean',
    'engagement_rate': 'mean',
    'sentiment': lambda x: x.value_counts(normalize=True).to_dict() if x.notna().any() else {}
}).reset_index()

summary.columns = ['Brand', 'Post Type', 'Avg Engagement', 'Avg Engagement Rate', 'Sentiment Distribution']
summary['Sentiment Distribution'] = summary['Sentiment Distribution'].apply(json.dumps)
summary.head()
```

```python
plt.figure(figsize=(10, 6))
sns.barplot(data=summary, x='Post Type', y='Avg Engagement Rate', hue='Brand')
plt.title('💡 Engagement Rate by Post Type and Brand')
plt.ylabel('Engagement Rate')
plt.xlabel('Post Type')
plt.xticks(rotation=45)
plt.legend(title='Brand')
plt.tight_layout()
plt.show()
```

## 🧮 Brand-Level Performance
```python
brand_summary = df.groupby('brand').agg({
    'total_engagement': 'mean',
    'engagement_rate': 'mean',
    'likes': 'mean',
    'comments': 'mean',
    'shares': 'mean'
}).reset_index()

brand_summary.head()

plt.figure(figsize=(8, 5))
sns.barplot(data=brand_summary, x='brand', y='engagement_rate', palette='Set2')
plt.title('🔥 Average Engagement Rate by Brand')
plt.ylabel('Engagement Rate')
plt.xlabel('Brand')
plt.tight_layout()
plt.show()
```

## 📌 Content Strategy Mix
```python
mix = df.groupby(['brand', 'post_type']).size().unstack(fill_value=0)
mix_ratio = mix.div(mix.sum(axis=1), axis=0)

mix_ratio.plot(kind='bar', stacked=True, figsize=(10, 6), colormap='tab20')
plt.title('📌 Content Format Distribution by Brand')
plt.ylabel('Proportion of Posts')
plt.xlabel('Brand')
plt.legend(title='Post Type', bbox_to_anchor=(1.05, 1), loc='upper left')
plt.tight_layout()
plt.show()
```

## 📝 Strategic Insights
```python
from IPython.display import Markdown, display
insight = """
## ✍️ Strategic Content Insights

- **Coca-Cola** drives top engagement using emotionally resonant storytelling and mixed content formats.
- **Pepsi** achieves steady performance with celebrity-endorsed and entertainment-themed content.
- **Fanta** underperforms with text-dominant formats; richer media and UGC could enhance reach.

### 📌 Brand Comparison

- **Coca-Cola** leads in engagement rates, signaling a strong brand-audience connection.
- **Pepsi** maintains balance across metrics with reliable performance.
- **Fanta** needs format diversification and content refresh.

### 🧩 Strategy Tips

- **Content Mix**: Coca-Cola blends video, image, and stories. Pepsi leans visual. Fanta relies heavily on text.
- **Post-Type Effects**: Video & image posts outperform others in engagement.
- **Optimization**: Fanta should prioritize richer visuals and community-driven storytelling.
"""
display(Markdown(insight))
```

## 💾 Save Output
```python
df.to_csv("../data/content_analysis.csv", index=False)
print("✅ Content analysis saved.")
