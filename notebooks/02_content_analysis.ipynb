{
 "cells": [
  {
   "cell_type": "markdown",
   "source": [
    "# 📊 02_content_analysis.ipynb\n",
    "\n",
    "Exploratory analysis of Facebook posts for Coke, Pepsi, and Fanta between November 2024 and March 2025."
   ],
   "metadata": {}
  },
  {
   "cell_type": "code",
   "execution_count": 01,
   "source": [
    "# 📦 Load required libraries\n",
    "import pandas as pd\n",
    "import matplotlib.pyplot as plt\n",
    "import seaborn as sns\n",
    "from wordcloud import WordCloud\n",
    "import re\n",
    "from nltk.corpus import stopwords\n",
    "import nltk\n",
    "nltk.download('stopwords')"
   ],
   "outputs": [],
   "metadata": {}
  },
  {
   "cell_type": "code",
   "execution_count": 02,
   "source": [
    "# 📥 Load raw data\n",
    "coke = pd.read_csv(\"../data/crawl_coke_data.csv\")\n",
    "pepsi = pd.read_csv(\"../data/crawl_pepsi_data.csv\")\n",
    "fanta = pd.read_csv(\"../data/crawl_fanta_data.csv\")\n",
    "\n",
    "coke['brand'] = 'Coca-Cola'\n",
    "pepsi['brand'] = 'Pepsi'\n",
    "fanta['brand'] = 'Fanta'\n",
    "\n",
    "df = pd.concat([coke, pepsi, fanta])\n",
    "df['post_date'] = pd.to_datetime(df['post_date'])"
   ],
   "outputs": [],
   "metadata": {}
  },
  {
   "cell_type": "code",
   "execution_count": 03,
   "source": [
    "# 🧹 Basic cleaning\n",
    "df = df.dropna(subset=['content'])\n",
    "df['word_count'] = df['content'].apply(lambda x: len(str(x).split()))"
   ],
   "outputs": [],
   "metadata": {}
  },
  {
   "cell_type": "markdown",
   "source": ["## 🗓 1. Monthly Post Count"],
   "metadata": {}
  },
  {
   "cell_type": "code",
   "execution_count": 04,
   "source": [
    "df['month'] = df['post_date'].dt.to_period('M')\n",
    "sns.countplot(data=df, x='month', hue='brand')\n",
    "plt.title(\"Monthly Post Count by Brand\")\n",
    "plt.xticks(rotation=45)\n",
    "plt.show()"
   ],
   "outputs": [],
   "metadata": {}
  },
  {
   "cell_type": "markdown",
   "source": ["## 📏 2. Post Length Distribution"],
   "metadata": {}
  },
  {
   "cell_type": "code",
   "execution_count": 05,
   "source": [
    "sns.boxplot(data=df, x='brand', y='word_count')\n",
    "plt.title(\"Post Length (word count) by Brand\")\n",
    "plt.show()"
   ],
   "outputs": [],
   "metadata": {}
  },
  {
   "cell_type": "markdown",
   "source": ["## ☁️ 3. Word Cloud by Brand"],
   "metadata": {}
  },
  {
   "cell_type": "code",
   "execution_count": 06,
   "source": [
    "stop_words = set(stopwords.words('english'))\n",
    "def clean_text(text):\n",
    "    words = re.sub(r\"[^a-zA-Z\\s]\", \"\", str(text).lower()).split()\n",
    "    return ' '.join([w for w in words if w not in stop_words])"
   ],
   "outputs": [],
   "metadata": {}
  },
  {
   "cell_type": "code",
   "execution_count": 07,
   "source": [
    "for brand in df['brand'].unique():\n",
    "    text = ' '.join(df[df['brand'] == brand]['content'].apply(clean_text))\n",
    "    wordcloud = WordCloud(width=800, height=400, background_color='white').generate(text)\n",
    "    plt.figure(figsize=(10,5))\n",
    "    plt.imshow(wordcloud)\n",
    "    plt.axis('off')\n",
    "    plt.title(f\"Word Cloud - {brand}\")\n",
    "    plt.show()"
   ],
   "outputs": [],
   "metadata": {}
  },
  {
   "cell_type": "markdown",
   "source": ["## 📢 4. Hashtag Frequency"],
   "metadata": {}
  },
  {
   "cell_type": "code",
   "execution_count": 08,
   "source": [
    "def extract_hashtags(text):\n",
    "    return re.findall(r\"#\\w+\", str(text))\n",
    "df['hashtags'] = df['content'].apply(extract_hashtags)\n",
    "\n",
    "hashtags = pd.Series(sum(df['hashtags'], []))\n",
    "top_hashtags = hashtags.value_counts().head(10)\n",
    "top_hashtags.plot(kind='bar', title='Top 10 Hashtags')\n",
    "plt.xticks(rotation=45)\n",
    "plt.show()"
   ],
   "outputs": [],
   "metadata": {}
  },
  {
   "cell_type": "markdown",
   "source": ["## 🔍 5. Classify Post Type (Promo, Event, UGC, Storytelling)"],
   "metadata": {}
  },
  {
   "cell_type": "code",
   "execution_count": 09,
   "source": [
    "def classify_post(text):\n",
    "    text = text.lower()\n",
    "    if any(x in text for x in ['deal', 'promotion', 'giảm giá']):\n",
    "        return 'Promo'\n",
    "    elif any(x in text for x in ['contest', 'giveaway', 'event']):\n",
    "        return 'Event'\n",
    "    elif any(x in text for x in ['your story', 'customer', 'ugc']):\n",
    "        return 'UGC'\n",
    "    else:\n",
    "        return 'Storytelling'\n",
    "\n",
    "df['post_type'] = df['content'].apply(classify_post)"
   ],
   "outputs": [],
   "metadata": {}
  },
  {
   "cell_type": "code",
   "execution_count": 10,
   "source": [
    "sns.countplot(data=df, x='post_type', hue='brand')\n",
    "plt.title(\"Post Type Distribution by Brand\")\n",
    "plt.xticks(rotation=15)\n",
    "plt.show()"
   ],
   "outputs": [],
   "metadata": {}
  },
  {
   "cell_type": "markdown",
   "source": ["## ⏰ 6. Posting Hour Distribution"],
   "metadata": {}
  },
  {
   "cell_type": "code",
   "execution_count": 11,
   "source": [
    "df['hour'] = df['post_date'].dt.hour\n",
    "sns.histplot(data=df, x='hour', hue='brand', multiple='stack')\n",
    "plt.title(\"Distribution of Post Times by Hour\")\n",
    "plt.xlabel(\"Hour of Day\")\n",
    "plt.show()"
   ],
   "outputs": [],
   "metadata": {}
  },
  {
   "cell_type": "markdown",
   "source": ["## 📈 7. Content Effectiveness Analysis"],
   "metadata": {}
  },
  {
   "cell_type": "code",
   "execution_count": 12,
   "source": [
    "# Calculate total engagement\n",
    "df['total_engagement'] = df['likes'] + df['comments'] + df['shares']\n",
    "\n",
    "# Estimated follower counts\n",
    "follower_map = {\n",
    "    'Coca-Cola': 1000000,\n",
    "    'Pepsi': 900000,\n",
    "    'Fanta': 800000\n",
    "}\n",
    "df['followers'] = df['brand'].map(follower_map)\n",
    "df['engagement_rate'] = df['total_engagement'] / df['followers']"
   ],
   "outputs": [],
   "metadata": {}
  },
  {
   "cell_type": "code",
   "execution_count": 13,
   "source": [
    "content_summary = df.groupby(['brand', 'post_type']).agg({\n",
    "    'total_engagement': 'mean',\n",
    "    'engagement_rate': 'mean',\n",
    "    'sentiment': lambda x: x.value_counts(normalize=True).to_dict()\n",
    "}).reset_index()\n",
    "\n",
    "content_summary.columns = ['Brand', 'Post Type', 'Avg Engagement', 'Avg Engagement Rate', 'Sentiment Distribution']\n",
    "content_summary"
   ],
   "outputs": [],
   "metadata": {}
  },
  {
   "cell_type": "code",
   "execution_count": 14,
   "source": [
    "plt.figure(figsize=(10, 6))\n",
    "sns.barplot(data=content_summary, x='Post Type', y='Avg Engagement Rate', hue='Brand')\n",
    "plt.title('💡 Engagement Rate by Post Type and Brand', fontsize=14)\n",
    "plt.ylabel('Engagement Rate')\n",
    "plt.xlabel('Post Type')\n",
    "plt.xticks(rotation=45)\n",
    "plt.legend(title='Brand')\n",
    "plt.tight_layout()\n",
    "plt.show()"
   ],
   "outputs": [],
   "metadata": {}
  },
  {
   "cell_type": "markdown",
   "source": ["## ✍️ Strategic Content Insights"],
   "metadata": {}
  },
  {
   "cell_type": "code",
   "execution_count": 15,
   "source": [
    "from IPython.display import Markdown\n",
    "insight = \"\"\"\n",
    "- **Coca-Cola** achieves the highest engagement rate with video posts, often leveraging emotional storytelling.\n",
    "- **Pepsi** performs well with image-based posts, especially those featuring celebrities or entertainment-related content.\n",
    "- **Fanta** primarily uses status or link posts, which see lower engagement; investing in visual or interactive content is recommended.\n",
    "- **Sentiment analysis** suggests Coca-Cola receives the most positive feedback, particularly for culturally themed posts like Tet celebrations.\n",
    "\"\"\"\n",
    "Markdown(insight)"
   ],
   "outputs": [],
   "metadata": {}
  },
  {
   "cell_type": "markdown",
   "source": ["## 💾 Save Cleaned Data"],
   "metadata": {}
  },
  {
   "cell_type": "code",
   "execution_count": 16,
   "source": [
    "df.to_csv(\"../data/content_analysis.csv\", index=False)\n",
    "print(\"✅ Content analysis saved.\")"
   ],
   "outputs": [],
   "metadata": {}
  }
 ],
 "metadata": {
  "kernelspec": {
   "name": "python3",
   "display_name": "Python 3",
   "language": "python"
  },
  "language_info": {
   "name": "python",
   "version": ""
  }
 },
 "nbformat": 4,
 "nbformat_minor": 5
}
