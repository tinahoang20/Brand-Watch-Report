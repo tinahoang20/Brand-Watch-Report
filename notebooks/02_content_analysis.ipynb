from nbformat import v4 as nbf
from pathlib import Path

# Create a new notebook
nb = nbf.new_notebook()

# Markdown introduction
intro = nbf.new_markdown_cell(
    "# 📊 02_content_analysis.ipynb\n"
    "\n"
    "Analyze Facebook content of Coca-Cola, Pepsi, and Fanta in Vietnam from Nov 2024 to Mar 2025.\n"
    "This notebook includes text preprocessing, keyword frequency analysis, and simple topic insights."
)

# Code: Import libraries
imports = nbf.new_code_cell(
    "import pandas as pd\n"
    "import matplotlib.pyplot as plt\n"
    "from wordcloud import WordCloud\n"
    "from collections import Counter\n"
    "import re\n"
    "\n"
    "# Set display options\n"
    "pd.set_option('display.max_colwidth', None)"
)

# Code: Load data
load_data = nbf.new_code_cell(
    "# Load previously crawled data (update path if needed)\n"
    "df = pd.read_csv('../data/combined_cleaned_data.csv')\n"
    "df.head()"
)

# Code: Text cleaning
text_cleaning = nbf.new_code_cell(
    "# Basic text cleaning\n"
    "def clean_text(text):\n"
    "    text = str(text).lower()\n"
    "    text = re.sub(r'http\\S+', '', text)  # remove links\n"
    "    text = re.sub(r'[^\\w\\s]', '', text)  # remove punctuation\n"
    "    text = re.sub(r'\\d+', '', text)  # remove digits\n"
    "    return text\n"
    "\n"
    "df['cleaned_message'] = df['message'].apply(clean_text)\n"
    "df[['message', 'cleaned_message']].head()"
)

# Code: Keyword frequency
keyword_freq = nbf.new_code_cell(
    "# Word frequency count\n"
    "all_words = ' '.join(df['cleaned_message'].dropna().tolist()).split()\n"
    "word_freq = Counter(all_words)\n"
    "common_words = word_freq.most_common(20)\n"
    "pd.DataFrame(common_words, columns=['Word', 'Frequency'])"
)

# Code: Word cloud
wordcloud = nbf.new_code_cell(
    "# Word cloud\n"
    "wc = WordCloud(width=800, height=400, background_color='white').generate(' '.join(all_words))\n"
    "plt.figure(figsize=(12, 6))\n"
    "plt.imshow(wc, interpolation='bilinear')\n"
    "plt.axis('off')\n"
    "plt.title('Top Keywords in Posts', fontsize=16)\n"
    "plt.show()"
)

# Add all cells
nb.cells = [intro, imports, load_data, text_cleaning, keyword_freq, wordcloud]

# Save notebook
output_path = Path("/mnt/data/02_content_analysis.ipynb")
with output_path.open("w", encoding="utf-8") as f:
    f.write(nbf.writes(nb))

output_path.name

