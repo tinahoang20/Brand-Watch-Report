{
 "cells": [
  {
   "cell_type": "markdown",
   "metadata": {},
   "source": [
    "# 📊 02_content_analysis.ipynb\n",
    "\n",
    "Content analysis of posts from Coke, Pepsi, and Fanta between November 2024 and March 2025."
   ]
  },
  {
   "cell_type": "code",
   "execution_count": 8,
   "metadata": {},
   "outputs": [],
   "source": [
    "import pandas as pd\n",
    "import matplotlib.pyplot as plt\n",
    "import seaborn as sns\n",
    "from wordcloud import WordCloud\n",
    "import nltk\n",
    "from nltk.corpus import stopwords\n",
    "import string\n",
    "nltk.download('stopwords')"
   ]
  },
  {
   "cell_type": "code",
   "execution_count": 9,
   "metadata": {},
   "outputs": [],
   "source": [
    "# Load crawled data from Step 1\n",
    "coke = pd.read_csv(\"../data/crawl_coke_data.csv\")\n",
    "pepsi = pd.read_csv(\"../data/crawl_pepsi_data.csv\")\n",
    "fanta = pd.read_csv(\"../data/crawl_fanta_data.csv\")\n",
    "\n",
    "coke['brand'] = 'Coke'\n",
    "pepsi['brand'] = 'Pepsi'\n",
    "fanta['brand'] = 'Fanta'\n",
    "\n",
    "df = pd.concat([coke, pepsi, fanta])\n",
    "df['post_date'] = pd.to_datetime(df['post_date'])"
   ]
  },
  {
   "cell_type": "markdown",
   "metadata": {},
   "source": [
    "## 1. Total Posts Per Month"
   ]
  },
  {
   "cell_type": "code",
   "execution_count": 10,
   "metadata": {},
   "outputs": [],
   "source": [
    "df['month'] = df['post_date'].dt.to_period('M')\n",
    "monthly_posts = df.groupby(['brand', 'month']).size().unstack(fill_value=0).T\n",
    "\n",
    "monthly_posts.plot(kind='bar', figsize=(12,6))\n",
    "plt.title(\"Monthly Post Count by Brand\")\n",
    "plt.ylabel(\"Number of Posts\")\n",
    "plt.xticks(rotation=45)\n",
    "plt.tight_layout()\n",
    "plt.show()"
   ]
  },
  {
   "cell_type": "markdown",
   "metadata": {},
   "source": [
    "## 2. Post Length Analysis"
   ]
  },
  {
   "cell_type": "code",
   "execution_count": 11,
   "metadata": {},
   "outputs": [],
   "source": [
    "df['post_length'] = df['content'].apply(lambda x: len(str(x).split()))\n",
    "\n",
    "plt.figure(figsize=(10,5))\n",
    "sns.boxplot(data=df, x='brand', y='post_length')\n",
    "plt.title(\"Post Length by Brand\")\n",
    "plt.ylabel(\"Word Count\")\n",
    "plt.show()"
   ]
  },
  {
   "cell_type": "markdown",
   "metadata": {},
   "source": [
    "## 3. Brand-Specific Word Clouds"
   ]
  },
  {
   "cell_type": "code",
   "execution_count": 12,
   "metadata": {},
   "outputs": [],
   "source": [
    "stop_words = set(stopwords.words('english') + list(string.punctuation))\n",
    "\n",
    "def clean_text(text):\n",
    "    tokens = str(text).lower().split()\n",
    "    return ' '.join([word for word in tokens if word not in stop_words])"
   ]
  },
  {
   "cell_type": "code",
   "execution_count": 13,
   "metadata": {},
   "outputs": [],
   "source": [
    "for brand in df['brand'].unique():\n",
    "    brand_text = df[df['brand'] == brand]['content'].apply(clean_text).str.cat(sep=' ')\n",
    "    wordcloud = WordCloud(width=800, height=400, background_color='white').generate(brand_text)\n",
    "    \n",
    "    plt.figure(figsize=(10,5))\n",
    "    plt.imshow(wordcloud, interpolation='bilinear')\n",
    "    plt.axis('off')\n",
    "    plt.title(f\"Word Cloud - {brand}\")\n",
    "    plt.show()"
   ]
  },
  {
   "cell_type": "markdown",
   "metadata": {},
   "source": [
    "## 4. Save Analyzed Data\n",
    "- This dataset will be used in Step 03: brand_comparison.ipynb"
   ]
  },
  {
   "cell_type": "code",
   "execution_count": 14,
   "metadata": {},
   "outputs": [],
   "source": [
    "df.to_csv(\"../data/content_analysis.csv\", index=False)\n",
    "print(\"\u2705 Content analysis complete and saved!\")"
   ]
  }
 ],
 "metadata": {
  "kernelspec": {
   "display_name": "Python 3",
   "language": "python",
   "name": "python3"
  },
  "language_info": {
   "name": "python",
   "version": "3.10"
  }
 },
 "nbformat": 4,
 "nbformat_minor": 5
}
