from pathlib import Path
import nbformat as nbf

# Define the path to save the new notebook
notebook_path = Path("/mnt/data/05_final_summary.ipynb")

# Create a new notebook
nb = nbf.v4.new_notebook()

# Add markdown and code cells
nb.cells = [
    nbf.v4.new_markdown_cell("# Strengths & Weaknesses Analysis"),
    nbf.v4.new_markdown_cell("### 🥤 Coca-Cola Vietnam (Coke)\n"
                              "**Strengths:**\n"
                              "- Strong brand recognition with consistent visual identity.\n"
                              "- Clear emotional messaging focusing on joy and celebration.\n"
                              "- Seasonal campaigns well-executed (e.g., Tet).\n\n"
                              "**Weaknesses:**\n"
                              "- Limited content diversity (mostly emotional posts).\n"
                              "- Few promotions or interactive content."),
    nbf.v4.new_markdown_cell("### 🧊 Pepsi Vietnam\n"
                              "**Strengths:**\n"
                              "- Creative and humorous content, resonating with Gen Z.\n"
                              "- Frequent promotions and mini-games boost interaction.\n"
                              "- Diverse content formats (video, images, graphics).\n\n"
                              "**Weaknesses:**\n"
                              "- Inconsistent tone of voice across posts.\n"
                              "- Some posts overly commercial."),
    nbf.v4.new_markdown_cell("### 🍊 Fanta Vietnam\n"
                              "**Strengths:**\n"
                              "- Vibrant visuals, appealing to young audiences.\n"
                              "- Engaging, trendy content for students and Gen Z.\n"
                              "- Good use of pop culture references.\n\n"
                              "**Weaknesses:**\n"
                              "- Irregular posting schedule.\n"
                              "- Lacks storytelling or deeper messaging."),
    nbf.v4.new_code_cell("import pandas as pd\n\n"
                         "summary_data = {\n"
                         "    \"Brand\": [\"Coke\", \"Pepsi\", \"Fanta\"],\n"
                         "    \"Strengths\": [\n"
                         "        \"Strong branding, emotional messaging, festive campaigns\",\n"
                         "        \"Creative content, frequent promotions, diverse visuals\",\n"
                         "        \"Vibrant visuals, youth-focused, trendy content\"\n"
                         "    ],\n"
                         "    \"Weaknesses\": [\n"
                         "        \"Limited content types, lacks promotions\",\n"
                         "        \"Inconsistent tone, overly commercial at times\",\n"
                         "        \"Irregular posting, lacks storytelling depth\"\n"
                         "    ]\n"
                         "}\n\n"
                         "df_summary = pd.DataFrame(summary_data)\n"
                         "df_summary")
]

# Write notebook to file
with open(notebook_path, "w", encoding="utf-8") as f:
    nbf.write(nb, f)

notebook_path.name
