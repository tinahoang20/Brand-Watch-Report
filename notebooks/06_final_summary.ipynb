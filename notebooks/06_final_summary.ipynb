import pandas as pd
import matplotlib.pyplot as plt

# --------------------------
# Strengths & Weaknesses Summary
# --------------------------

from IPython.display import Markdown, display

display(Markdown("## 🔍 Strengths & Weaknesses Analysis"))

display(Markdown("### 🥤 Coca-Cola Vietnam (Coke)"))
display(Markdown("""
**🔹 Strengths:**
- Strong brand recognition with consistent visual identity (red tone, logo usage).
- Clear emotional messaging focusing on joy, connection, and celebration.
- Well-executed seasonal campaigns, especially during Tet and holidays.

**🔸 Weaknesses:**
- Limited content diversity: Mostly emotional posts, lacking interactive or humorous formats.
- Few promotional campaigns or mini-games, reducing engagement potential.
"""))

display(Markdown("### 🧊 Pepsi Vietnam"))
display(Markdown("""
**🔹 Strengths:**
- Creative and humorous content that resonates with Gen Z.
- Frequent promotional campaigns and mini-games that boost interaction.
- Diverse visual formats: static images, video, and motion graphics.

**🔸 Weaknesses:**
- Inconsistent tone of voice across posts (some emotional, others humorous or serious).
- At times, posts are too commercially driven, which might overwhelm users.
"""))

display(Markdown("### 🍊 Fanta Vietnam"))
display(Markdown("""
**🔹 Strengths:**
- Colorful and vibrant visuals, appealing to a young audience.
- Content targeted well at students and Gen Z users.
- Leverages pop culture and trending formats effectively.

**🔸 Weaknesses:**
- Inconsistent posting frequency: active in some months, inactive in others.
- Lack of meaningful storytelling or deeper messaging beyond entertainment.
"""))

# Summary Table
summary_data = {
    "Brand": ["Coke", "Pepsi", "Fanta"],
    "Strengths": [
        "Strong branding, emotional messaging, festive campaigns",
        "Creative content, frequent promotions, diverse visuals",
        "Vibrant visuals, youth-focused, trendy content"
    ],
    "Weaknesses": [
        "Limited content types, lacks promotions",
        "Inconsistent tone, overly commercial at times",
        "Irregular posting, lacks storytelling depth"
    ]
}

df_summary = pd.DataFrame(summary_data)

display(Markdown("### 📊 Summary Table"))
display(df_summary)
