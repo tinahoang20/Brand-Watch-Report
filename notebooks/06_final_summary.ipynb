{
 "cells": [
  {
   "cell_type": "markdown",
   "metadata": {},
   "source": "# Strengths & Weaknesses Analysis"
  },
  {
   "cell_type": "markdown",
   "metadata": {},
   "source": "### 🥤 Coca-Cola Vietnam (Coke)\n**Strengths:**\n- Strong brand recognition with consistent visual identity.\n- Clear emotional messaging focusing on joy and celebration.\n- Seasonal campaigns well-executed (e.g., Tet).\n\n**Weaknesses:**\n- Limited content diversity (mostly emotional posts).\n- Few promotions or interactive content."
  },
  {
   "cell_type": "markdown",
   "metadata": {},
   "source": "### 🧊 Pepsi Vietnam\n**Strengths:**\n- Creative and humorous content, resonating with Gen Z.\n- Frequent promotions and mini-games boost interaction.\n- Diverse content formats (video, images, graphics).\n\n**Weaknesses:**\n- Inconsistent tone of voice across posts.\n- Some posts overly commercial."
  },
  {
   "cell_type": "markdown",
   "metadata": {},
   "source": "### 🍊 Fanta Vietnam\n**Strengths:**\n- Vibrant visuals, appealing to young audiences.\n- Engaging, trendy content for students and Gen Z.\n- Good use of pop culture references.\n\n**Weaknesses:**\n- Irregular posting schedule.\n- Lacks storytelling or deeper messaging."
  },
  {
   "cell_type": "code",
   "execution_count": null,
   "metadata": {},
   "outputs": [],
   "source": "import pandas as pd\n\nsummary_data = {\n    \"Brand\": [\"Coke\", \"Pepsi\", \"Fanta\"],\n    \"Strengths\": [\n        \"Strong branding, emotional messaging, festive campaigns\",\n        \"Creative content, frequent promotions, diverse visuals\",\n        \"Vibrant visuals, youth-focused, trendy content\"\n    ],\n    \"Weaknesses\": [\n        \"Limited content types, lacks promotions\",\n        \"Inconsistent tone, overly commercial at times\",\n        \"Irregular posting, lacks storytelling depth\"\n    ]\n}\n\ndf_summary = pd.DataFrame(summary_data)\ndf_summary"
  }
 ],
 "metadata": {
  "kernelspec": {
   "display_name": "Python 3",
   "language": "python",
   "name": "python3"
  },
  "language_info": {
   "name": "python",
   "version": "3.9"
  }
 },
 "nbformat": 4,
 "nbformat_minor": 5
}
