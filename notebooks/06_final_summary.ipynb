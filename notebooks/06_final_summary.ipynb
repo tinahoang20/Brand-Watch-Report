{
 "cells": [
  {
   "cell_type": "markdown",
   "source": [
    "# 🧾 05_final_summary.ipynb\n",
    "\n",
    "Final report combining all analysis: sentiment, post type, engagement, and strategy per brand."
   ],
   "metadata": {}
  },
  {
   "cell_type": "code",
   "execution_count": 35,
   "source": [
    "import pandas as pd\n",
    "import seaborn as sns\n",
    "import matplotlib.pyplot as plt\n",
    "sns.set(style='whitegrid')"
   ],
   "outputs": [],
   "metadata": {}
  },
  {
   "cell_type": "code",
   "execution_count": 36,
   "source": [
    "# Load enriched data with sentiment & engagement\n",
    "df = pd.read_csv(\"../data/content_with_sentiment.csv\")\n",
    "df['post_date'] = pd.to_datetime(df['post_date'])"
   ],
   "outputs": [],
   "metadata": {}
  },
  {
   "cell_type": "markdown",
   "source": [
    "## 📊 1. Overall Engagement per Brand"
   ],
   "metadata": {}
  },
  {
   "cell_type": "code",
   "execution_count": 37,
   "source": [
    "engagement = df.groupby('brand')[['likes','comments','shares','engagement']].mean().round(1)\n",
    "engagement.sort_values('engagement', ascending=False)"
   ],
   "outputs": [],
   "metadata": {}
  },
  {
   "cell_type": "markdown",
   "source": [
    "## 💬 2. Sentiment Ratio per Brand"
   ],
   "metadata": {}
  },
  {
   "cell_type": "code",
   "execution_count": 38,
   "source": [
    "sentiment = df.groupby(['brand','sentiment']).size().unstack(fill_value=0)\n",
    "sentiment = sentiment.div(sentiment.sum(axis=1), axis=0).round(2)*100\n",
    "sentiment"
   ],
   "outputs": [],
   "metadata": {}
  },
  {
   "cell_type": "markdown",
   "source": [
    "## 🧩 3. Most Common Post Type by Brand"
   ],
   "metadata": {}
  },
  {
   "cell_type": "code",
   "execution_count": 39,
   "source": [
    "post_type_summary = df.groupby('brand')['post_type'].agg(lambda x: x.value_counts().index[0])\n",
    "post_type_summary"
   ],
   "outputs": [],
   "metadata": {}
  },
  {
   "cell_type": "markdown",
   "source": [
    "## 🔍 4. Summary Table"
   ],
   "metadata": {}
  },
  {
   "cell_type": "code",
   "execution_count": 40,
   "source": [
    "summary = df.groupby('brand').agg({\n",
    "    'likes': 'mean',\n",
    "    'comments': 'mean',\n",
    "    'shares': 'mean',\n",
    "    'engagement': 'mean',\n",
    "    'word_count': 'mean',\n",
    "    'sentiment': lambda x: x.value_counts().index[0],\n",
    "    'post_type': lambda x: x.value_counts().index[0]\n",
    "}).round(1)\n",
    "summary.columns = ['Likes', 'Comments', 'Shares', 'Engagement', 'Avg Words', 'Top Sentiment', 'Top Post Type']\n",
    "summary"
   ],
   "outputs": [],
   "metadata": {}
  },
  {
   "cell_type": "markdown",
   "source": [
    "## 🧠 5. Strategic Insight (Auto-generated)"
   ],
   "metadata": {}
  },
  {
   "cell_type": "code",
   "execution_count": 41,
   "source": [
    "for brand in summary.index:\n",
    "    print(f\"\\n🔴 {brand.upper()} – Strategic Summary\")\n",
    "    print(f\"- Top post type: {summary.loc[brand, 'Top Post Type']}\")\n",
    "    print(f\"- Top sentiment: {summary.loc[brand, 'Top Sentiment']}\")\n",
    "    print(f\"- Engagement: {summary.loc[brand, 'Engagement']} avg\")\n",
    "    if summary.loc[brand, 'Top Sentiment'] == 'Negative':\n",
    "        print(\"  ⚠️ Recommendation: Shift tone to more positive, community-driven content.\")\n",
    "    elif summary.loc[brand, 'Top Post Type'] == 'Promo':\n",
    "        print(\"  💡 Suggestion: Balance promotions with storytelling to humanize the brand.\")\n",
    "    else:\n",
    "        print(\"  ✅ Continue content style and optimize timing.\")"
   ],
   "outputs": [],
   "metadata": {}
  },
  {
   "cell_type": "markdown",
   "source": [
    "## 💾 Save Final Summary"
   ],
   "metadata": {}
  },
  {
   "cell_type": "code",
   "execution_count": 42,
   "source": [
    "summary.to_csv(\"../data/final_brand_summary.csv\")\n",
    "print(\"✅ Final summary saved.\")"
   ],
   "outputs": [],
   "metadata": {}
  }
 ],
 "metadata": {
  "kernelspec": {
   "display_name": "Python 3",
   "language": "python",
   "name": "python3"
  },
  "language_info": {
   "name": "python",
   "version": ""
  }
 },
 "nbformat": 4,
 "nbformat_minor": 5
}
