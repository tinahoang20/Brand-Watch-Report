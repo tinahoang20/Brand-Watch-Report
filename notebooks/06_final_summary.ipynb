{
 "cells": [
  {
   "cell_type": "markdown",
   "metadata": {},
   "source": "# Fanpage Strengths & Weaknesses Analysis"
  },
  {
   "cell_type": "markdown",
   "metadata": {},
   "source": "## \ud83e\udd64 Coca-Cola Vietnam (Coke)\n\n**Strengths:**\n- Strong brand recognition: Consistent use of logo, red color palette, and visual identity.\n- Clear emotional messaging: Focused on emotional connections, family moments, and shared happiness.\n- Effective use of holidays: Well-produced content for Tet and local festivals aligns with Vietnamese culture.\n\n**Weaknesses:**\n- Limited content variety: Mostly emotional stories, lacks interactive or humorous content.\n- Low frequency of promotions: Few posts about mini-games or discount programs."
  },
  {
   "cell_type": "markdown",
   "metadata": {},
   "source": "## \ud83e\uddca Pepsi Vietnam\n\n**Strengths:**\n- Creative and humorous content: Utilizes trending memes and Gen Z language effectively.\n- Frequent promotional campaigns: Regular mini-games and offers boost interaction and reach.\n- Diverse visual formats: Mix of images, videos, and motion graphics.\n\n**Weaknesses:**\n- Inconsistent brand voice: Some posts are playful, while others are serious or emotional.\n- Sometimes overly commercial: Might come across as pushy in encouraging engagement."
  },
  {
   "cell_type": "markdown",
   "metadata": {},
   "source": "## \ud83c\udf4a Fanta Vietnam\n\n**Strengths:**\n- Vivid and colorful visuals: Aligns well with a youthful and energetic brand.\n- Appeals to students: Content matches the taste of younger audiences.\n- Leverages pop culture: Uses trends from films, music, and TikTok.\n\n**Weaknesses:**\n- Inconsistent posting frequency: Active some months, absent in others.\n- Lack of deeper messaging: Focuses on entertainment without emotional depth."
  },
  {
   "cell_type": "markdown",
   "metadata": {},
   "source": "## \ud83d\udcca Summary Table\n\n| Brand | Strengths | Weaknesses |\n|-------|-----------|------------|\n| **Coke** | Strong branding, emotional messaging | Limited variety, fewer promotions |\n| **Pepsi** | Creative content, frequent promotions, diverse visuals | Inconsistent tone, overly commercial |\n| **Fanta** | Colorful visuals, Gen Z friendly, trendy | Inconsistent posts, lacks deep messaging |"
  }
 ],
 "metadata": {
  "kernelspec": {
   "display_name": "Python 3",
   "language": "python",
   "name": "python3"
  },
  "language_info": {
   "name": "python",
   "version": ""
  }
 },
 "nbformat": 4,
 "nbformat_minor": 2
}
