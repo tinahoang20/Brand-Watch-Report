{
 "cells": [
  {
   "cell_type": "markdown",
   "metadata": {},
   "source": "# Fanpage Strengths & Weaknesses Analysis"
  },
  {
   "cell_type": "markdown",
   "metadata": {},
   "source": "## \ud83e\udd64 Coca-Cola Vietnam (Coke)\n\n**Strengths:**\n- Strong brand recognition: Consistent use of logo, red color palette, and visual identity.\n- Clear emotional messaging: Focused on emotional connections, family moments, and shared happiness.\n- Effective use of holidays: Well-produced content for Tet and local festivals aligns with Vietnamese culture.\n\n**Weaknesses:**\n- Limited content variety: Mostly emotional stories, lacks interactive or humorous content.\n- Low frequency of promotions: Few posts about mini-games or discount programs."
  },
  {
   "cell_type": "markdown",
   "metadata": {},
   "source": "## \ud83e\uddca Pepsi Vietnam\n\n**Strengths:**\n- Creative and humorous content: Utilizes trending memes and Gen Z language effectively.\n- Frequent promotional campaigns: Regular mini-games and offers boost interaction and reach.\n- Diverse visual formats: Mix of images, videos, and motion graphics.\n\n**Weaknesses:**\n- Inconsistent brand voice: Some posts are playful, while others are serious or emotional.\n- Sometimes overly commercial: Might come across as pushy in encouraging engagement."
  },
  {
   "cell_type": "markdown",
   "metadata": {},
   "source": "## \ud83c\udf4a Fanta Vietnam\n\n**Strengths:**\n- Vivid and colorful visuals: Aligns well with a youthful and energetic brand.\n- Appeals to students: Content matches the taste of younger audiences.\n- Leverages pop culture: Uses trends from films, music, and TikTok.\n\n**Weaknesses:**\n- Inconsistent posting frequency: Active some months, absent in others.\n- Lack of deeper messaging: Focuses on entertainment without emotional depth."
  },
  {
   "cell_type": "markdown",
   "metadata": {},
   "source": "## \ud83d\udcca Summary Table\n\n| Brand | Strengths | Weaknesses |\n|-------|-----------|------------|\n| **Coke** | Strong branding, emotional messaging | Limited variety, fewer promotions |\n| **Pepsi** | Creative content, frequent promotions, diverse visuals | Inconsistent tone, overly commercial |\n| **Fanta** | Colorful visuals, Gen Z friendly, trendy | Inconsistent posts, lacks deep messaging |"
  }
 ],
 "metadata": {
  "kernelspec": {
   "display_name": "Python 3",
   "language": "python",
   "name": "python3"
  },
  "language_info": {
   "name": "python",
   "version": ""
  }
 },
 "nbformat": 4,
 "nbformat_minor": 2
}
---
## Key Learnings & Recommendations

### 💡 Bài học rút ra
- **Giọng điệu thương hiệu** đóng vai trò quan trọng trong việc xây dựng lòng trung thành. Những thương hiệu nhất quán về tone of voice (như Coke) thường tạo được sự gắn bó cao hơn.
- **Nội dung có cảm xúc** (storytelling) không chỉ tạo tương tác mà còn xây dựng hình ảnh thương hiệu bền vững.
- **Khuyến mãi – giải trí – văn hóa** là ba yếu tố chủ đạo dẫn đến hiệu quả cao trên mạng xã hội.

### 📈 Đề xuất Chiến lược Nội dung
1. **Giữ vững tone of voice**:
   - Xác định rõ tính cách thương hiệu (vui nhộn, ấm áp, năng động...) và duy trì xuyên suốt mọi bài viết.

2. **Cân bằng giữa cảm xúc và hành động**:
   - Kết hợp storytelling (60%) + promotion (40%) để vừa xây thương hiệu, vừa kích thích hành vi mua hàng.

3. **Tối ưu lịch đăng bài**:
   - Phân tích các khung giờ có mức tương tác cao (dựa trên biểu đồ) để đăng nội dung vào thời điểm vàng.

4. **Làm mới định dạng nội dung**:
   - Kết hợp ảnh, video, reel, meme, carousel… để tránh gây nhàm chán và giữ người xem lâu hơn.

5. **Đón đầu xu hướng văn hóa**:
   - Lên kế hoạch trước các chiến dịch gắn với Tết, 8/3, Trung Thu… và tích hợp yếu tố văn hóa địa phương để tăng mức độ gắn kết.


---

📌 *Việc áp dụng những đề xuất trên không chỉ giúp cải thiện hiệu suất nội dung trên mạng xã hội mà còn góp phần xây dựng thương hiệu bền vững trong lòng người tiêu dùng.*

