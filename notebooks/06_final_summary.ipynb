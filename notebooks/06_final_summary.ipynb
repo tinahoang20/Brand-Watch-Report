from pathlib import Path
import nbformat as nbf

# Define the notebook content
notebook = nbf.v4.new_notebook()
notebook.cells = [
    nbf.v4.new_markdown_cell("""
# 🔍 Fanpage Strengths & Weaknesses Analysis

## 🥤 Coca-Cola Vietnam (Coke)

### 🔹 Strengths:
- **Strong brand identity**: Consistent use of logo, dominant red color, and visual style make the brand instantly recognizable.
- **Clear emotional messaging**: Focuses on emotional connections like "moments of togetherness" and "happiness in sharing".
- **Effective use of festive occasions**: Highly invested in content for Tet and other holidays, aligning well with Vietnamese culture.

### 🔸 Weaknesses:
- **Limited content diversity**: Mostly revolves around emotions and moments, lacking interactive or humorous content formats.
- **Low promotion frequency**: Few commercial posts like mini-games or special offers.
"""),
    nbf.v4.new_markdown_cell("""
## 🧊 Pepsi Vietnam

### 🔹 Strengths:
- **Creative and humorous content**: Great at using Gen Z trends, memes, and internet language to engage young audiences.
- **Active in promotions**: Regularly posts about offers and mini-games, boosting interaction and reach.
- **Diverse visual formats**: Combines static images, videos, and motion graphics for higher engagement.

### 🔸 Weaknesses:
- **Inconsistent brand tone**: Posts range from playful to serious or emotional, which can dilute brand voice.
- **Over-commercial at times**: Some users might feel overwhelmed by constant sales-oriented messaging.
"""),
    nbf.v4.new_markdown_cell("""
## 🍊 Fanta Vietnam

### 🔹 Strengths:
- **Vivid, colorful imagery**: Visually attractive and fitting for a young, energetic brand image.
- **Youth-focused content**: Relatable themes for students and younger demographics.
- **Good use of pop culture**: Incorporates trending topics (films, music, TikTok) to draw attention.

### 🔸 Weaknesses:
- **Inconsistent posting frequency**: High activity in some months, total silence in others, affecting engagement consistency.
- **Lacks deep or meaningful content**: Primarily entertainment-focused without the emotional depth of Coke.

---

## 📊 Summary Table

| Brand | Strengths | Weaknesses |
|-------|-----------|------------|
| **Coke** | Strong brand recognition, emotional messaging | Limited content diversity, low promo activity |
| **Pepsi** | Creative content, frequent promotions, visual diversity | Inconsistent tone, overly commercial |
| **Fanta** | Vibrant visuals, Gen Z appeal, trend-savvy | Irregular posting, shallow messaging |
""")
]

# Save the notebook to a file
output_path = Path("/mnt/data/03_fanpage_strengths_weaknesses.ipynb")
nbf.write(notebook, output_path)

output_path.name
