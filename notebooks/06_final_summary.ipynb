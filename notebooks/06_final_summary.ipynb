# 05_final_summary.ipynb
# Author: Hoang Ngoc Anh
# Final report summarizing brand fanpage analysis and content strategy recommendations

# ---
# 📊 Fanpage Strengths & Weaknesses Analysis
# ---

from IPython.display import Markdown, display

def show_markdown(md):
    display(Markdown(md))

show_markdown("""
## 🥤 Coca-Cola Vietnam (Coke)

**Strengths:**
- Strong brand recognition: Consistent use of logo, red color palette, and visual identity.
- Clear emotional messaging: Focused on emotional connections, family moments, and shared happiness.
- Effective use of holidays: Well-produced content for Tet and local festivals aligns with Vietnamese culture.

**Weaknesses:**
- Limited content variety: Mostly emotional stories, lacks interactive or humorous content.
- Low frequency of promotions: Few posts about mini-games or discount programs.
""")

show_markdown("""
## 🧊 Pepsi Vietnam

**Strengths:**
- Creative and humorous content: Utilizes trending memes and Gen Z language effectively.
- Frequent promotional campaigns: Regular mini-games and offers boost interaction and reach.
- Diverse visual formats: Mix of images, videos, and motion graphics.

**Weaknesses:**
- Inconsistent brand voice: Some posts are playful, while others are serious or emotional.
- Sometimes overly commercial: Might come across as pushy in encouraging engagement.
""")

show_markdown("""
## 🍊 Fanta Vietnam

**Strengths:**
- Vivid and colorful visuals: Aligns well with a youthful and energetic brand.
- Appeals to students: Content matches the taste of younger audiences.
- Leverages pop culture: Uses trends from films, music, and TikTok.

**Weaknesses:**
- Inconsistent posting frequency: Active some months, absent in others.
- Lack of deeper messaging: Focuses on entertainment without emotional depth.
""")

show_markdown("""
## 📋 Summary Table

| Brand   | Strengths                                            | Weaknesses                                   |
|---------|------------------------------------------------------|----------------------------------------------|
| **Coke**  | Strong branding, emotional messaging                 | Limited variety, fewer promotions            |
| **Pepsi** | Creative content, frequent promotions, diverse visuals | Inconsistent tone, overly commercial         |
| **Fanta** | Colorful visuals, Gen Z friendly, trendy             | Inconsistent posts, lacks deep messaging     |
""")

# ---
# 💡 Key Learnings & Recommendations
# ---

show_markdown("""
## 💡 Key Learnings & Recommendations

### Key Takeaways
- **Consistent brand voice** builds stronger loyalty and brand recall.
- **Emotional storytelling** increases engagement and supports long-term positioning.
- A mix of **promotion, entertainment, and cultural relevance** delivers the best social media results.

### 📈 Content Strategy Recommendations
1. **Maintain a consistent tone of voice**
   - Define brand personality (fun, inspiring, energetic, etc.) and apply it across all content.

2. **Balance storytelling and action**
   - Use 60% emotional content + 40% promotional to build brand and drive interaction.

3. **Optimize posting schedule**
   - Identify best engagement times (from earlier analysis) and post during peak hours.

4. **Refresh content formats**
   - Combine photos, short videos, Reels, memes, and carousels to increase time-on-page.

5. **Leverage cultural timing**
   - Plan campaigns for Tet, Women’s Day, Mid-Autumn Festival, etc. with local flair.

> 📌 Implementing these strategies will not only boost content performance but also contribute to a stronger brand image in the minds of Vietnamese consumers.
""")
