from pathlib import Path
import nbformat as nbf

# Create a new notebook
nb = nbf.v4.new_notebook()

# Add Markdown and code cells as described
cells = [
    nbf.v4.new_markdown_cell("## 🔍 Strengths & Weaknesses Analysis"),
    
    nbf.v4.new_markdown_cell("""### 🥤 Coca-Cola Vietnam (Coke)

**🔹 Strengths:**
- Strong brand recognition with consistent visual identity (red tone, logo usage).
- Clear emotional messaging focusing on joy, connection, and celebration.
- Well-executed seasonal campaigns, especially during Tet and holidays.

**🔸 Weaknesses:**
- Limited content diversity: Mostly emotional posts, lacking interactive or humorous formats.
- Few promotional campaigns or mini-games, reducing engagement potential.
"""),
    
    nbf.v4.new_markdown_cell("""### 🧊 Pepsi Vietnam

**🔹 Strengths:**
- Creative and humorous content that resonates with Gen Z.
- Frequent promotional campaigns and mini-games that boost interaction.
- Diverse visual formats: static images, video, and motion graphics.

**🔸 Weaknesses:**
- Inconsistent tone of voice across posts (some emotional, others humorous or serious).
- At times, posts are too commercially driven, which might overwhelm users.
"""),
    
    nbf.v4.new_markdown_cell("""### 🍊 Fanta Vietnam

**🔹 Strengths:**
- Colorful and vibrant visuals, appealing to a young audience.
- Content targeted well at students and Gen Z users.
- Leverages pop culture and trending formats effectively.

**🔸 Weaknesses:**
- Inconsistent posting frequency: active in some months, inactive in others.
- Lack of meaningful storytelling or deeper messaging beyond entertainment.
"""),
    
    nbf.v4.new_code_cell("""import pandas as pd

summary_data = {
    "Brand": ["Coke", "Pepsi", "Fanta"],
    "Strengths": [
        "Strong branding, emotional messaging, festive campaigns",
        "Creative content, frequent promotions, diverse visuals",
        "Vibrant visuals, youth-focused, trendy content"
    ],
    "Weaknesses": [
        "Limited content types, lacks promotions",
        "Inconsistent tone, overly commercial at times",
        "Irregular posting, lacks storytelling depth"
    ]
}

df_summary = pd.DataFrame(summary_data)
df_summary""")
]

nb["cells"] = cells

# Save the notebook
output_path = Path("/mnt/data/05_final_summary.ipynb")
with open(output_path, "w", encoding="utf-8") as f:
    nbf.write(nb, f)

output_path.name
