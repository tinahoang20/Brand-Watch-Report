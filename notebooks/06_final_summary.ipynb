{
    "cells": [
        {
            "cell_type": "markdown",
            "metadata": {},
            "source": [
                "# 05_final_summary.ipynb\n",
                "**Author: Hoang Ngoc Anh**  \n",
                "Final report summarizing brand fanpage analysis and content strategy recommendations."
            ]
        },
        {
            "cell_type": "code",
            "execution_count": None,
            "metadata": {},
            "outputs": [],
            "source": [
                "from IPython.display import Markdown, display\n",
                "\n",
                "def show_markdown(md):\n",
                "    display(Markdown(md))"
            ]
        },
        {
            "cell_type": "code",
            "execution_count": None,
            "metadata": {},
            "outputs": [],
            "source": [
                "show_markdown(\"\"\"\n",
                "## 🥤 Coca-Cola Vietnam (Coke)\n\n",
                "**Strengths:**\n",
                "- Strong brand recognition: Consistent use of logo, red color palette, and visual identity.\n",
                "- Clear emotional messaging: Focused on emotional connections, family moments, and shared happiness.\n",
                "- Effective use of holidays: Well-produced content for Tet and local festivals aligns with Vietnamese culture.\n\n",
                "**Weaknesses:**\n",
                "- Limited content variety: Mostly emotional stories, lacks interactive or humorous content.\n",
                "- Low frequency of promotions: Few posts about mini-games or discount programs.\n",
                "\"\"\")"
            ]
        }
    ],
    "metadata": {
        "kernelspec": {
            "display_name": "Python 3",
            "language": "python",
            "name": "python3"
        },
        "language_info": {
            "name": "python",
            "version": "3.9"
        },
        "authors": [
            {
                "name": "Hoang Ngoc Anh"
            }
        ]
    },
    "nbformat": 4,
    "nbformat_minor": 5
}

# Save the corrected notebook to file
with open(notebook_path, "w", encoding="utf-8") as f:
    json.dump(notebook_content, f, ensure_ascii=False, indent=2)

notebook_path.name
