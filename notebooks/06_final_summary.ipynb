from nbformat import v4 as nbf
from pathlib import Path

# Create a new notebook
nb = nbf.new_notebook()

# Define the content as a markdown cell
markdown_content = """
### 🔍 Analysis of Strengths & Weaknesses by Brand Fanpage

---

#### 🥤 Coca-Cola Vietnam (Coke)

**🔹 Strengths:**

- **Strong brand recognition:** The consistent use of logo, dominant red color, and visual style makes it easily recognizable.
- **Clear emotional messaging:** Focuses on emotional connection, emphasizing togetherness, happiness, and sharing moments.
- **Effective seasonal campaigns:** Content during major Vietnamese holidays (e.g., Tet) is well-produced and culturally relevant.

**🔸 Weaknesses:**

- **Limited content diversity:** Most posts revolve around emotional themes and moments, with little variety in interactive or humorous content.
- **Low frequency of promotions:** Few posts feature commercial activities like mini-games or promotional offers.

---

#### 🧊 Pepsi Vietnam

**🔹 Strengths:**

- **Creative and humorous content:** Effectively leverages Gen Z trends, memes, and internet language to build engagement.
- **Frequent promotional activities:** Regularly posts about discounts, games, and challenges to boost reach and interaction.
- **Diverse visual presentation:** A good mix of static images, videos, and motion graphics keeps the content fresh and engaging.

**🔸 Weaknesses:**

- **Inconsistent brand tone:** While some posts are playful and fun, others take on a serious or emotional tone, which creates inconsistency in voice.
- **Overly commercial at times:** Excessive focus on selling may cause followers to feel overwhelmed or disengaged.

---

#### 🍊 Fanta Vietnam

**🔹 Strengths:**

- **Vibrant and colorful visuals:** Bright, energetic designs that align well with the brand’s youthful and dynamic image.
- **Focus on students and youth:** Content is relevant and relatable to a younger audience (students, Gen Z).
- **Smart use of pop culture:** Incorporates trending icons and formats (films, music, TikTok) to stay relevant and grab attention.

**🔸 Weaknesses:**

- **Inconsistent posting schedule:** Some months have frequent updates, while others show little or no activity, which hurts long-term engagement.
- **Lack of deep messaging:** Most posts are lighthearted and entertaining, lacking emotional depth or storytelling like Coca-Cola.

---

### 📊 Summary Table

| Brand | Strengths | Weaknesses |
|-------|-----------|------------|
| **Coke** | Strong branding, clear emotional messaging, seasonal relevance | Limited content variety, low promotional activity |
| **Pepsi** | Creative content, frequent promotions, diverse visuals | Inconsistent tone of voice, sometimes overly commercial |
| **Fanta** | Bright visuals, Gen Z appeal, trendy pop culture | Irregular posting, lacks deep messaging |
"""

# Add the markdown cell to the notebook
nb.cells.append(nbf.new_markdown_cell(markdown_content))

# Define file path
output_path = Path("/mnt/data/03_fanpage_analysis.ipynb")

# Write the notebook to file
with output_path.open("w", encoding="utf-8") as f:
    nbf.write(nb, f)

str(output_path)
