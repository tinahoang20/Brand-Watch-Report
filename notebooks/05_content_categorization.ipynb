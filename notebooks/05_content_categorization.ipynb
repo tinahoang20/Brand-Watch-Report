{
 "cells": [
  {
   "cell_type": "markdown",
   "metadata": {},
   "source": [
    "# 05_content_categorization.ipynb\n",
    "**Author: Hoang Ngoc Anh**\n\n",
    "This notebook classifies each social media post into key content pillars:\n",
    "- **Storytelling**: Brand stories, emotional sharing\n",
    "- **Promotion**: Discounts, promotions, mini-games\n",
    "- **UGC & Testimonial**: User-generated content, customer feedback\n",
    "- **Cultural Relevance**: Holidays, cultural or local events\n",
    "\n",
    "## 📦 Setup\n",
    "Make sure to install the required libraries and have your crawled social media data available in the `data/` folder for this notebook to run properly."
   ]
  },
  {
   "cell_type": "code",
   "execution_count": 1,
   "metadata": {},
   "outputs": [],
   "source": [
    "import pandas as pd\n",
    "import matplotlib.pyplot as plt\n",
    "import seaborn as sns\n",
    "\n",
    "# Load crawled data (adjust path if needed)\n",
    "df = pd.read_csv('data/facebook_data.csv')\n",
    "\n",
    "# Define content categories and keywords\n",
    "categories = {\n",
    "    \"Storytelling\": [\"hành trình\", \"câu chuyện\", \"cảm xúc\", \"truyền cảm hứng\", \"kỷ niệm\"],\n",
    "    \"Promotion\": [\"giảm giá\", \"khuyến mãi\", \"ưu đãi\", \"giveaway\", \"minigame\", \"trúng thưởng\"],\n",
    "    \"UGC & Testimonial\": [\"khách hàng nói\", \"review\", \"đánh giá\", \"cảm nhận\", \"người dùng\"],\n",
    "    \"Cultural Relevance\": [\"tết\", \"giáng sinh\", \"valentine\", \"trung thu\", \"ngày lễ\", \"quốc tế\"]\n",
    "}\n",
    "\n",
    "# Classification function\n",
    "def classify_content(text):\n",
    "    for category, keywords in categories.items():\n",
    "        for keyword in keywords:\n",
    "            if pd.notna(text) and keyword.lower() in text.lower():\n",
    "                return category\n",
    "    return \"Others\"\n",
    "\n",
    "# Apply classification\n",
    "df['content_category'] = df['text'].apply(classify_content)\n",
    "\n",
    "# Save the result\n",
    "df.to_csv('data/facebook_categorized.csv', index=False)\n",
    "df[['brand', 'time', 'text', 'content_category']].head()"
   ]
  },
  {
   "cell_type": "markdown",
   "metadata": {},
   "source": [
    "## 📊 Content Categorization Summary\n",
    "After running the classification function, you will have a categorized version of the social media posts. The next step is to analyze the distribution of content categories by brand and observe trends in engagement and content types.\n",
    "\n",
    "### Expected Output:\n",
    "The result will categorize the posts into **Storytelling**, **Promotion**, **UGC & Testimonial**, **Cultural Relevance**, and other possible categories based on the provided keywords."
   ]
  },
  {
   "cell_type": "code",
   "execution_count": 2,
   "metadata": {},
   "outputs": [],
   "source": [
    "# Plot the distribution of content categories by brand\n",
    "plt.figure(figsize=(10, 6))\n",
    "sns.countplot(data=df, x='content_category', hue='brand')\n",
    "plt.title('Distribution of Content Categories by Brand')\n",
    "plt.xticks(rotation=45)\n",
    "plt.show()"
   ]
  },
  {
   "cell_type": "markdown",
   "metadata": {},
   "source": [
    "## 📈 Engagement Analysis by Content Category\n",
    "Next, we will analyze the average engagement (likes, comments, shares) for each content category. This will help us understand which content categories are driving more interaction across brands.\n",
    "We will calculate the average engagement rate per post category and compare it across different brands."
   ]
  },
  {
   "cell_type": "code",
   "execution_count": 3,
   "metadata": {},
   "outputs": [],
   "source": [
    "# Calculate total engagement\n",
    "df['total_engagement'] = df['likes'] + df['comments'] + df['shares']\n",
    "\n",
    "# Calculate average engagement by content category and brand\n",
    "engagement_by_category = df.groupby(['content_category', 'brand'])['total_engagement'].mean().reset_index()\n",
    "\n",
    "# Plot the engagement by content category\n",
    "plt.figure(figsize=(12, 6))\n",
    "sns.barplot(data=engagement_by_category, x='content_category', y='total_engagement', hue='brand')\n",
    "plt.title('Average Engagement by Content Category and Brand')\n",
    "plt.xticks(rotation=45)\n",
    "plt.show()"
   ]
  },
  {
   "cell_type": "markdown",
   "metadata": {},
   "source": [
    "## 📝 Conclusion and Insights\n",
    "From the engagement analysis, we can draw several insights to improve the content strategy for each brand. For example, if **UGC & Testimonial** posts generate the most engagement, brands might want to focus on encouraging more user-generated content.\n",
    "\n",
    "Additionally, if **Cultural Relevance** posts are performing well, brands should continue aligning with local events and holidays.\n",
    "\n",
    "In general, this categorization can guide the next steps in content strategy, identifying areas for improvement, and capitalizing on successful content types."
   ]
  },
  {
   "cell_type": "code",
   "execution_count": 4,
   "metadata": {},
   "outputs": [],
   "source": [
    "# Save the categorized content data for further use\n",
    "df.to_csv('data/facebook_categorized.csv', index=False)\n",
    "print('✅ Content categorization complete. Data saved to facebook_categorized.csv')"
   ]
  }
 ],
 "metadata": {
  "kernelspec": {
   "display_name": "Python 3",
   "language": "python",
   "name": "python3"
  },
  "language_info": {
   "name": "python",
   "version": "3.9"
  }
 },
 "nbformat": 4,
 "nbformat_minor": 5
}
