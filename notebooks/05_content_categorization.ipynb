{
 "cells": [
  {
   "cell_type": "markdown",
   "metadata": {},
   "source": [
    "# 05_content_categorization.ipynb\n",
    "**Author: Hoang Ngoc Anh**\n\n",
    "This notebook classifies each social media post into key content pillars:\n",
    "- **Storytelling**: Brand stories, emotional sharing\n",
    "- **Promotion**: Discounts, promotions, mini-games\n",
    "- **UGC & Testimonial**: User-generated content, customer feedback\n",
    "- **Cultural Relevance**: Holidays, cultural or local events"
   ]
  },
  {
   "cell_type": "code",
   "execution_count": null,
   "metadata": {},
   "outputs": [],
   "source": [
    "import pandas as pd\n",
    "\n",
    "# Load crawled data (adjust path if needed)\n",
    "df = pd.read_csv('data/facebook_data.csv')\n",
    "\n",
    "# Define content categories and keywords\n",
    "categories = {\n",
    "    \"Storytelling\": [\"hành trình\", \"câu chuyện\", \"cảm xúc\", \"truyền cảm hứng\", \"kỷ niệm\"],\n",
    "    \"Promotion\": [\"giảm giá\", \"khuyến mãi\", \"ưu đãi\", \"giveaway\", \"minigame\", \"trúng thưởng\"],\n",
    "    \"UGC & Testimonial\": [\"khách hàng nói\", \"review\", \"đánh giá\", \"cảm nhận\", \"người dùng\"],\n",
    "    \"Cultural Relevance\": [\"tết\", \"giáng sinh\", \"valentine\", \"trung thu\", \"ngày lễ\", \"quốc tế\"]\n",
    "}\n",
    "\n",
    "# Classification function\n",
    "def classify_content(text):\n",
    "    for category, keywords in categories.items():\n",
    "        for keyword in keywords:\n",
    "            if pd.notna(text) and keyword.lower() in text.lower():\n",
    "                return category\n",
    "    return \"Others\"\n",
    "\n",
    "# Apply classification\n",
    "df['content_category'] = df['text'].apply(classify_content)\n",
    "\n",
    "# Save the result\n",
    "df.to_csv('data/facebook_categorized.csv', index=False)\n",
    "df[['brand', 'time', 'text', 'content_category']].head()"
   ]
  }
 ],
 "metadata": {
  "kernelspec": {
   "display_name": "Python 3",
   "language": "python",
   "name": "python3"
  },
  "language_info": {
   "name": "python",
   "version": "3.9"
  }
 },
 "nbformat": 4,
 "nbformat_minor": 5
}

