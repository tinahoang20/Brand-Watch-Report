# 📈 sentiment_analysis.ipynb
# Sentiment classification for social media posts of Coke, Pepsi, and Fanta

# In[15]
import pandas as pd
import matplotlib.pyplot as plt
import seaborn as sns
from textblob import TextBlob

# In[16]
# Load content data
df = pd.read_csv("../data/content_analysis.csv")
df.head()

# In[17]
# Define a function to get sentiment polarity and classify
def get_sentiment(text):
    analysis = TextBlob(str(text))
    polarity = analysis.sentiment.polarity
    if polarity > 0.1:
        return "Positive"
    elif polarity < -0.1:
        return "Negative"
    else:
        return "Neutral"

# In[18]
# Apply sentiment analysis
df['sentiment'] = df['content'].apply(get_sentiment)

# In[19]
# Check sentiment distribution
sentiment_dist = df['sentiment'].value_counts()
print(sentiment_dist)

# In[20]
# Plot sentiment by brand
plt.figure(figsize=(8,6))
sns.countplot(data=df, x='brand', hue='sentiment', palette='Set2')
plt.title("Sentiment Distribution by Brand")
plt.xlabel("Brand")
plt.ylabel("Number of Posts")
plt.legend(title="Sentiment")
plt.tight_layout()
plt.show()

# In[21]
# Save the updated dataset
df.to_csv("../data/content_with_sentiment.csv", index=False)
print("✅ Sentiment classification completed and saved.")
