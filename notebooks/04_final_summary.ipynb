{
 "cells": [
  {
   "cell_type": "markdown",
   "metadata": {},
   "source": [
    "# 🧠 04_final_report.ipynb\n",
    "\n",
    "This notebook summarizes the findings and gives strategic recommendations based on the Facebook content analysis of Coke, Pepsi, and Fanta."
   ]
  },
  {
   "cell_type": "markdown",
   "metadata": {},
   "source": [
    "## ✨ Key Takeaways\n",
    "\n",
    "- **Coca-Cola**: Strong emotional content, high sentiment, consistent engagement.\n",
    "- **Pepsi**: Strong promotional content, but lower sentiment scores.\n",
    "- **Fanta**: Playful tone, moderate engagement, high interactivity with comments."
   ]
  },
  {
   "cell_type": "markdown",
   "metadata": {},
   "source": [
    "## 📌 Recommendations\n",
    "\n",
    "1. **Coca-Cola**: Double down on emotional storytelling and user-generated content.\n",
    "2. **Pepsi**: Improve community interaction and reduce overly promotional tone.\n",
    "3. **Fanta**: Expand influencer partnerships to scale playful branding."
   ]
  },
  {
   "cell_type": "code",
   "execution_count": 18,
   "metadata": {},
   "outputs": [],
   "source": [
    "import matplotlib.pyplot as plt\n",
    "\n",
    "brands = ['Coca-Cola', 'Pepsi', 'Fanta']\n",
    "engagement = [280.5, 150.2, 210.7]  # Example values\n",
    "sentiment = [0.75, 0.42, 0.68]\n",
    "\n",
    "fig, ax1 = plt.subplots()\n",
    "\n",
    "ax1.bar(brands, engagement, label='Engagement', color='skyblue', alpha=0.7)\n",
    "ax1.set_ylabel('Engagement')\n",
    "ax1.set_title('Engagement vs Sentiment')\n",
    "\n",
    "ax2 = ax1.twinx()\n",
    "ax2.plot(brands, sentiment, label='Sentiment', color='orange', marker='o')\n",
    "ax2.set_ylabel('Sentiment Score')\n",
    "\n",
    "fig.tight_layout()\n",
    "plt.show()"
   ]
  }
 ],
 "metadata": {
  "kernelspec": {
   "display_name": "Python 3",
   "language": "python",
   "name": "python3"
  },
  "language_info": {
   "name": "python",
   "version": "3.x"
  }
 },
 "nbformat": 4,
 "nbformat_minor": 2
}

