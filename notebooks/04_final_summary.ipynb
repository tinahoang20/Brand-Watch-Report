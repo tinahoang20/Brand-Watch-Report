{
 "cells": [
  {
   "cell_type": "markdown",
   "metadata": {},
   "source": [
    "# 💬 04_sentiment_analysis.ipynb\n",
    "\n",
    "Analyze the sentiment (positive/neutral/negative) of Facebook posts from Coke, Pepsi, and Fanta."
   ]
  },
  {
   "cell_type": "code",
   "execution_count": 28,
   "metadata": {},
   "outputs": [],
   "source": [
    "import pandas as pd\n",
    "from textblob import TextBlob\n",
    "import matplotlib.pyplot as plt\n",
    "import seaborn as sns\n",
    "sns.set(style='whitegrid')"
   ]
  },
  {
   "cell_type": "code",
   "execution_count": 29,
   "metadata": {},
   "outputs": [],
   "source": [
    "# Load content data\n",
    "df = pd.read_csv(\"../data/content_analysis.csv\")\n",
    "df = df.dropna(subset=['content'])"
   ]
  },
  {
   "cell_type": "markdown",
   "metadata": {},
   "source": [
    "## 🧠 Sentiment Classification with TextBlob"
   ]
  },
  {
   "cell_type": "code",
   "execution_count": 30,
   "metadata": {},
   "outputs": [],
   "source": [
    "def get_sentiment(text):\n",
    "    analysis = TextBlob(str(text))\n",
    "    polarity = analysis.sentiment.polarity\n",
    "    if polarity > 0.1:\n",
    "        return 'Positive'\n",
    "    elif polarity < -0.1:\n",
    "        return 'Negative'\n",
    "    else:\n",
    "        return 'Neutral'\n",
    "\n",
    "df['sentiment'] = df['content'].apply(get_sentiment)"
   ]
  },
  {
   "cell_type": "markdown",
   "metadata": {},
   "source": [
    "## 📊 Sentiment Distribution by Brand"
   ]
  },
  {
   "cell_type": "code",
   "execution_count": 31,
   "metadata": {},
   "outputs": [],
   "source": [
    "plt.figure(figsize=(10,6))\n",
    "sns.countplot(data=df, x='brand', hue='sentiment', palette='pastel')\n",
    "plt.title(\"Sentiment Breakdown by Brand\")\n",
    "plt.xlabel(\"Brand\")\n",
    "plt.ylabel(\"Number of Posts\")\n",
    "plt.legend(title=\"Sentiment\")\n",
    "plt.show()"
   ]
  },
  {
   "cell_type": "markdown",
   "metadata": {},
   "source": [
    "## 📋 Summary Table"
   ]
  },
  {
   "cell_type": "code",
   "execution_count": 32,
   "metadata": {},
   "outputs": [],
   "source": [
    "sentiment_summary = df.groupby(['brand', 'sentiment']).size().unstack(fill_value=0)\n",
    "sentiment_summary['Total'] = sentiment_summary.sum(axis=1)\n",
    "sentiment_summary['% Positive'] = (sentiment_summary['Positive'] / sentiment_summary['Total'] * 100).round(1)\n",
    "sentiment_summary['% Negative'] = (sentiment_summary['Negative'] / sentiment_summary['Total'] * 100).round(1)\n",
    "sentiment_summary['% Neutral'] = (sentiment_summary['Neutral'] / sentiment_summary['Total'] * 100).round(1)\n",
    "sentiment_summary"
   ]
  },
  {
   "cell_type": "markdown",
   "metadata": {},
   "source": [
    "## 💾 Save Result"
   ]
  },
  {
   "cell_type": "code",
   "execution_count": 33,
   "metadata": {},
   "outputs": [],
   "source": [
    "df.to_csv(\"../data/content_with_sentiment.csv\", index=False)\n",
    "print(\"✅ Sentiment classification completed and saved.\")"
   ]
  }
 ],
 "metadata": {
  "kernelspec": {
   "display_name": "Python 3",
   "language": "python",
   "name": "python3"
  },
  "language_info": {
   "name": "python",
   "version": ""
  }
 },
 "nbformat": 4,
 "nbformat_minor": 5
}
